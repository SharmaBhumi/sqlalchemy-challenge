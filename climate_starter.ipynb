{
 "cells": [
  {
   "cell_type": "code",
   "execution_count": 1,
   "metadata": {},
   "outputs": [],
   "source": [
    "%matplotlib inline\n",
    "from matplotlib import style\n",
    "style.use('fivethirtyeight')\n",
    "import matplotlib.pyplot as plt"
   ]
  },
  {
   "cell_type": "code",
   "execution_count": 2,
   "metadata": {},
   "outputs": [],
   "source": [
    "import numpy as np\n",
    "import pandas as pd"
   ]
  },
  {
   "cell_type": "code",
   "execution_count": 3,
   "metadata": {},
   "outputs": [],
   "source": [
    "import datetime as dt"
   ]
  },
  {
   "cell_type": "markdown",
   "metadata": {},
   "source": [
    "# Reflect Tables into SQLAlchemy ORM"
   ]
  },
  {
   "cell_type": "code",
   "execution_count": 4,
   "metadata": {},
   "outputs": [],
   "source": [
    "# Python SQL toolkit and Object Relational Mapper\n",
    "import sqlalchemy\n",
    "from sqlalchemy.ext.automap import automap_base\n",
    "from sqlalchemy.orm import Session\n",
    "from sqlalchemy import create_engine, func,inspect"
   ]
  },
  {
   "cell_type": "code",
   "execution_count": 5,
   "metadata": {},
   "outputs": [],
   "source": [
    "engine = create_engine(\"sqlite:///Resources/hawaii.sqlite\")"
   ]
  },
  {
   "cell_type": "code",
   "execution_count": 6,
   "metadata": {},
   "outputs": [],
   "source": [
    "# reflect an existing database into a new model\n",
    "Base = automap_base()\n",
    "# reflect the tables\n",
    "Base.prepare(engine, reflect=True)"
   ]
  },
  {
   "cell_type": "code",
   "execution_count": 7,
   "metadata": {},
   "outputs": [
    {
     "data": {
      "text/plain": [
       "['measurement', 'station']"
      ]
     },
     "execution_count": 7,
     "metadata": {},
     "output_type": "execute_result"
    }
   ],
   "source": [
    "# We can view all of the classes that automap found\n",
    "Base.classes.keys()"
   ]
  },
  {
   "cell_type": "code",
   "execution_count": 8,
   "metadata": {},
   "outputs": [],
   "source": [
    "# Save references to each table\n",
    "Measurement = Base.classes.measurement\n",
    "Station = Base.classes.station"
   ]
  },
  {
   "cell_type": "code",
   "execution_count": 9,
   "metadata": {},
   "outputs": [],
   "source": [
    "# Create our session (link) from Python to the DB\n",
    "session = Session(engine)"
   ]
  },
  {
   "cell_type": "markdown",
   "metadata": {},
   "source": [
    "# Exploratory Climate Analysis"
   ]
  },
  {
   "cell_type": "code",
   "execution_count": 10,
   "metadata": {},
   "outputs": [
    {
     "name": "stdout",
     "output_type": "stream",
     "text": [
      "2017-08-23\n",
      "2016-08-23\n",
      "2230\n"
     ]
    },
    {
     "data": {
      "image/png": "[encoded data removed]",
      "text/plain": [
       "<Figure size 432x288 with 1 Axes>"
      ]
     },
     "metadata": {
      "needs_background": "light"
     },
     "output_type": "display_data"
    },
    {
     "data": {
      "text/plain": [
       "<Figure size 432x288 with 0 Axes>"
      ]
     },
     "metadata": {},
     "output_type": "display_data"
    }
   ],
   "source": [
    "# Design a query to retrieve the last 12 months of precipitation data and plot the results\n",
    "# results = session.query()order_by(Emoji.score.desc()).all()\n",
    "\n",
    "#looking at the columns and data sample\n",
    "first_row = session.query(Measurement).first()\n",
    "first_row.__dict__\n",
    "\n",
    "#finding the max date\n",
    "results=session.query(Measurement.date, Measurement.prcp).order_by(Measurement.date.desc()).first()\n",
    "results\n",
    "#('2017-08-23', 0.0)\n",
    "\n",
    "last_date = session.query(Measurement.date).order_by(Measurement.date.desc()).first()[0]\n",
    "\n",
    "print(last_date) \n",
    "\n",
    "last_date_measurement = dt.date(2017, 8 ,23)\n",
    "# Calculate the date 1 year ago from the last data point in the database\n",
    "one_year_ago = last_date_measurement - dt.timedelta(days=365)\n",
    "print(one_year_ago)\n",
    "\n",
    "date = dt.date(2016, 8, 23)\n",
    "\n",
    "# Perform a query to retrieve the data and precipitation scores\n",
    "qry = session.query(Measurement.date, Measurement.prcp).filter(Measurement.date <= '2017-08-23').\\\n",
    "    filter (Measurement.date >= '2016-08-23').all()\n",
    "# Save the query results as a Pandas DataFrame and set the index to the date column\n",
    "result = session.query(Measurement.date, Measurement.prcp).\\\n",
    "    filter(Measurement.date >= date).all()\n",
    "\n",
    "# get the count / length of the list of tuples\n",
    "print(len(result))\n",
    "\n",
    "df = pd.DataFrame(result, columns=['Date', 'Precipitation'])\n",
    "df = df.sort_values('Date')\n",
    "df.set_index('Date', inplace=True)\n",
    "df.plot.line(rot=90)\n",
    "plt.tight_layout()\n",
    "plt.show()\n",
    "plt.savefig(\"./date_vs_precipitation.png\")"
   ]
  },
  {
   "cell_type": "markdown",
   "metadata": {},
   "source": [
    "![precipitation](Images/precipitation.png)"
   ]
  },
  {
   "cell_type": "code",
   "execution_count": 11,
   "metadata": {},
   "outputs": [
    {
     "data": {
      "text/html": [
       "<div>\n",
       "<style scoped>\n",
       "    .dataframe tbody tr th:only-of-type {\n",
       "        vertical-align: middle;\n",
       "    }\n",
       "\n",
       "    .dataframe tbody tr th {\n",
       "        vertical-align: top;\n",
       "    }\n",
       "\n",
       "    .dataframe thead th {\n",
       "        text-align: right;\n",
       "    }\n",
       "</style>\n",
       "<table border=\"1\" class=\"dataframe\">\n",
       "  <thead>\n",
       "    <tr style=\"text-align: right;\">\n",
       "      <th></th>\n",
       "      <th>Precipitation</th>\n",
       "    </tr>\n",
       "  </thead>\n",
       "  <tbody>\n",
       "    <tr>\n",
       "      <td>count</td>\n",
       "      <td>2021.000000</td>\n",
       "    </tr>\n",
       "    <tr>\n",
       "      <td>mean</td>\n",
       "      <td>0.177279</td>\n",
       "    </tr>\n",
       "    <tr>\n",
       "      <td>std</td>\n",
       "      <td>0.461190</td>\n",
       "    </tr>\n",
       "    <tr>\n",
       "      <td>min</td>\n",
       "      <td>0.000000</td>\n",
       "    </tr>\n",
       "    <tr>\n",
       "      <td>25%</td>\n",
       "      <td>0.000000</td>\n",
       "    </tr>\n",
       "    <tr>\n",
       "      <td>50%</td>\n",
       "      <td>0.020000</td>\n",
       "    </tr>\n",
       "    <tr>\n",
       "      <td>75%</td>\n",
       "      <td>0.130000</td>\n",
       "    </tr>\n",
       "    <tr>\n",
       "      <td>max</td>\n",
       "      <td>6.700000</td>\n",
       "    </tr>\n",
       "  </tbody>\n",
       "</table>\n",
       "</div>"
      ],
      "text/plain": [
       "       Precipitation\n",
       "count    2021.000000\n",
       "mean        0.177279\n",
       "std         0.461190\n",
       "min         0.000000\n",
       "25%         0.000000\n",
       "50%         0.020000\n",
       "75%         0.130000\n",
       "max         6.700000"
      ]
     },
     "execution_count": 11,
     "metadata": {},
     "output_type": "execute_result"
    }
   ],
   "source": [
    "# Use Pandas to calcualte the summary statistics for the precipitation data\n",
    "df.describe()"
   ]
  },
  {
   "cell_type": "markdown",
   "metadata": {},
   "source": [
    "![describe](Images/describe.png)"
   ]
  },
  {
   "cell_type": "code",
   "execution_count": 12,
   "metadata": {},
   "outputs": [
    {
     "data": {
      "text/plain": [
       "9"
      ]
     },
     "execution_count": 12,
     "metadata": {},
     "output_type": "execute_result"
    }
   ],
   "source": [
    "# Design a query to show how many stations are available in this dataset?\n",
    "\n",
    "# first_row.__dict__\n",
    "stations=session.query(Measurement.station)\n",
    "measure_stations=[]\n",
    "for s in stations:\n",
    "#     print(s)\n",
    "    measure_stations.append(s[0])\n",
    "\n",
    "stations_df=pd.DataFrame({'stations':measure_stations})\n",
    "station_counts=stations_df['stations'].value_counts()\n",
    "unique_stations_count=len(station_counts)\n",
    "\n",
    "#Number of stations in the dataset\n",
    "unique_stations_count #9\n"
   ]
  },
  {
   "cell_type": "code",
   "execution_count": 13,
   "metadata": {},
   "outputs": [
    {
     "data": {
      "text/plain": [
       "USC00519281    2772\n",
       "USC00519397    2724\n",
       "USC00513117    2709\n",
       "USC00519523    2669\n",
       "USC00516128    2612\n",
       "USC00514830    2202\n",
       "USC00511918    1979\n",
       "USC00517948    1372\n",
       "USC00518838     511\n",
       "Name: stations, dtype: int64"
      ]
     },
     "execution_count": 13,
     "metadata": {},
     "output_type": "execute_result"
    }
   ],
   "source": [
    "# What are the most active stations? (i.e. what stations have the most rows)?\n",
    "# List the stations and the counts in descending order.\n",
    "station_counts"
   ]
  },
  {
   "cell_type": "code",
   "execution_count": 14,
   "metadata": {},
   "outputs": [
    {
     "name": "stdout",
     "output_type": "stream",
     "text": [
      "198652.0\n"
     ]
    },
    {
     "data": {
      "text/plain": [
       "((54.0), (85.0), 71.66378066378067)"
      ]
     },
     "execution_count": 14,
     "metadata": {},
     "output_type": "execute_result"
    }
   ],
   "source": [
    "# Using the station id from the previous query, calculate the lowest temperature recorded, \n",
    "# highest temperature recorded, and average temperature of the most active station?\n",
    "highest_temp=session.query(Measurement.tobs).filter(Measurement.station == 'USC00519281').order_by(Measurement.tobs.desc()).first()\n",
    "lowest_temp=session.query(Measurement.tobs).filter(Measurement.station == 'USC00519281').order_by(Measurement.tobs.asc()).first()\n",
    "\n",
    "# first_row.__dict__\n",
    "\n",
    "#collecting teh temerature data for station == 'USC00519281'\n",
    "a_temp=session.query(Measurement.tobs).filter(Measurement.station == 'USC00519281')\n",
    "\n",
    "#Calculating the total temperature\n",
    "total_tmp=0\n",
    "for temp in a_temp:\n",
    "#     print(temp[0])\n",
    "    total_tmp+=temp[0]\n",
    "\n",
    "print(total_tmp)\n",
    "\n",
    "#Counting the number of rows\n",
    "tmp_count=session.query(Measurement.tobs).filter(Measurement.station == 'USC00519281').count()\n",
    "tmp_count\n",
    "\n",
    "#Average temeratuer calculation\n",
    "avg_tmp=total_tmp/tmp_count\n",
    "\n",
    "lowest_temp,highest_temp,avg_tmp"
   ]
  },
  {
   "cell_type": "code",
   "execution_count": 15,
   "metadata": {},
   "outputs": [
    {
     "data": {
      "image/png": "[encoded data removed]",
      "text/plain": [
       "<Figure size 432x288 with 1 Axes>"
      ]
     },
     "metadata": {
      "needs_background": "light"
     },
     "output_type": "display_data"
    },
    {
     "data": {
      "text/plain": [
       "<Figure size 432x288 with 0 Axes>"
      ]
     },
     "metadata": {},
     "output_type": "display_data"
    }
   ],
   "source": [
    "# Choose the station with the highest number of temperature observations.\n",
    "# Query the last 12 months of temperature observation data for this station and plot the results as a histogram\n",
    "# Calculate the date 1 year ago from the last data point in the database\n",
    "\n",
    "#finding the max date for station == 'USC00519281'\n",
    "results=session.query(Measurement.date).filter(Measurement.station == 'USC00519281').order_by(Measurement.date.desc()).first()\n",
    "results\n",
    "#('2017-08-18')\n",
    "\n",
    "# Perform a query to retrieve the data and precipitation scores\n",
    "results_tobs_hist = session.query(Measurement.tobs).filter(Measurement.station == 'USC00519281').\\\n",
    "filter(Measurement.date <= '2017-08-18').\\\n",
    "    filter (Measurement.date >= '2016-08-18').all()\n",
    "\n",
    "# PLOT THE HISTOGRAM\n",
    "\n",
    "df = pd.DataFrame(results_tobs_hist, columns=['tobs'])\n",
    "df.plot.hist(bins=12)\n",
    "plt.tight_layout()\n",
    "plt.show()\n",
    "plt.savefig(\"./histogram_12mnth_temp.png\")\n",
    "# need to adjust x and y axis, tickers, and bar thickness, and axis title"
   ]
  },
  {
   "cell_type": "markdown",
   "metadata": {},
   "source": [
    "![precipitation](Images/station-histogram.png)"
   ]
  },
  {
   "cell_type": "code",
   "execution_count": 16,
   "metadata": {},
   "outputs": [
    {
     "name": "stdout",
     "output_type": "stream",
     "text": [
      "[(62.0, 69.57142857142857, 74.0)]\n"
     ]
    }
   ],
   "source": [
    "# This function called `calc_temps` will accept start date and end date in the format '%Y-%m-%d' \n",
    "# and return the minimum, average, and maximum temperatures for that range of dates\n",
    "def calc_temps(start_date, end_date):\n",
    "    \"\"\"TMIN, TAVG, and TMAX for a list of dates.\n",
    "    \n",
    "    Args:\n",
    "        start_date (string): A date string in the format %Y-%m-%d\n",
    "        end_date (string): A date string in the format %Y-%m-%d\n",
    "        \n",
    "    Returns:\n",
    "        TMIN, TAVE, and TMAX\n",
    "    \"\"\"\n",
    "    \n",
    "    return session.query(func.min(Measurement.tobs), func.avg(Measurement.tobs), func.max(Measurement.tobs)).\\\n",
    "        filter(Measurement.date >= start_date).filter(Measurement.date <= end_date).all()\n",
    "\n",
    "# function usage example\n",
    "print(calc_temps('2012-02-28', '2012-03-05'))"
   ]
  },
  {
   "cell_type": "code",
   "execution_count": 17,
   "metadata": {},
   "outputs": [
    {
     "name": "stdout",
     "output_type": "stream",
     "text": [
      "[(64.0, 72.02777777777777, 78.0)]\n"
     ]
    }
   ],
   "source": [
    "# Use your previous function `calc_temps` to calculate the tmin, tavg, and tmax \n",
    "# for your trip using the previous year's data for those same dates.\n",
    "print(calc_temps('2017-02-28', '2017-03-05'))"
   ]
  },
  {
   "cell_type": "code",
   "execution_count": 18,
   "metadata": {},
   "outputs": [
    {
     "data": {
      "image/png": "[encoded data removed]",
      "text/plain": [
       "<Figure size 432x288 with 1 Axes>"
      ]
     },
     "metadata": {
      "needs_background": "light"
     },
     "output_type": "display_data"
    }
   ],
   "source": [
    "# Plot the results from your previous query as a bar chart. \n",
    "# Use \"Trip Avg Temp\" as your Title\n",
    "# Use the average temperature for the y value\n",
    "# Use the peak-to-peak (tmax-tmin) value as the y error bar (yerr)\n",
    "tmin=64.0\n",
    "tavg=72.03\n",
    "tmax=78.0\n",
    "yerr=(tmax-tmin)\n",
    "x=np.array([64.0,72.03,78.0])\n",
    "x_mean=np.mean(x)\n",
    "x_std=np.std(x)\n",
    "# Create lists for the plot\n",
    "temp = ['temp']\n",
    "x_pos = np.arange(len(temp))\n",
    "CTEs = [x_mean]\n",
    "error = [yerr]\n",
    "y=(72.03)\n",
    "\n",
    "# Build the plot\n",
    "fig, ax = plt.subplots()\n",
    "ax.bar(x_pos, CTEs, yerr=error,width=0.05, align='center', alpha=0.5, ecolor='black', color='red',capsize=10)\n",
    "ax.set_ylabel('Temp (F)')\n",
    "ax.set_xticks(x_pos)\n",
    "ax.set_xticklabels(temp)\n",
    "ax.set_title('Trip Avg Temp')\n",
    "ax.yaxis.grid(True)\n",
    "\n",
    "# Save the figure and show\n",
    "plt.tight_layout()\n",
    "plt.savefig('bar_plot_with_error_bars.png')\n",
    "plt.show()\n"
   ]
  },
  {
   "cell_type": "code",
   "execution_count": 19,
   "metadata": {},
   "outputs": [
    {
     "name": "stdout",
     "output_type": "stream",
     "text": [
      "Station: USC00514830 Name: KUALOA RANCH HEADQUARTERS 886.9, HI US Precipitation: 11.53 Elevation: 7.0 Longitude:-157.8374 Latitude:21.5213  Date:2014-07-20 \n",
      "Station: USC00519281 Name: WAIHEE 837.5, HI US Precipitation: 7.97 Elevation: 32.9 Longitude:-157.84888999999998 Latitude:21.45167  Date:2014-07-20 \n",
      "Station: USC00513117 Name: KANEOHE 838.1, HI US Precipitation: 5.98 Elevation: 14.6 Longitude:-157.8015 Latitude:21.4234  Date:2014-07-20 \n",
      "Station: USC00519523 Name: WAIMANALO EXPERIMENTAL FARM, HI US Precipitation: 5.54 Elevation: 19.5 Longitude:-157.71139 Latitude:21.33556  Date:2014-07-20 \n",
      "Station: USC00516128 Name: MANOA LYON ARBO 785.2, HI US Precipitation: 4.3 Elevation: 152.4 Longitude:-157.8025 Latitude:21.3331  Date:2014-07-20 \n",
      "Station: USC00516128 Name: MANOA LYON ARBO 785.2, HI US Precipitation: 1.43 Elevation: 152.4 Longitude:-157.8025 Latitude:21.3331  Date:2014-07-27 \n",
      "Station: USC00516128 Name: MANOA LYON ARBO 785.2, HI US Precipitation: 1.2 Elevation: 152.4 Longitude:-157.8025 Latitude:21.3331  Date:2014-08-09 \n",
      "Station: USC00516128 Name: MANOA LYON ARBO 785.2, HI US Precipitation: 1.1 Elevation: 152.4 Longitude:-157.8025 Latitude:21.3331  Date:2014-08-08 \n",
      "Station: USC00519397 Name: WAIKIKI 717.2, HI US Precipitation: 1.09 Elevation: 3.0 Longitude:-157.8168 Latitude:21.2716  Date:2014-07-20 \n",
      "Station: USC00511918 Name: HONOLULU OBSERVATORY 702.2, HI US Precipitation: 1.0 Elevation: 0.9 Longitude:-157.9992 Latitude:21.3152  Date:2014-07-20 \n",
      "Station: USC00516128 Name: MANOA LYON ARBO 785.2, HI US Precipitation: 0.95 Elevation: 152.4 Longitude:-157.8025 Latitude:21.3331  Date:2014-08-02 \n",
      "Station: USC00516128 Name: MANOA LYON ARBO 785.2, HI US Precipitation: 0.93 Elevation: 152.4 Longitude:-157.8025 Latitude:21.3331  Date:2014-07-23 \n",
      "Station: USC00519281 Name: WAIHEE 837.5, HI US Precipitation: 0.79 Elevation: 32.9 Longitude:-157.84888999999998 Latitude:21.45167  Date:2014-08-09 \n",
      "Station: USC00519397 Name: WAIKIKI 717.2, HI US Precipitation: 0.79 Elevation: 3.0 Longitude:-157.8168 Latitude:21.2716  Date:2014-07-27 \n",
      "Station: USC00514830 Name: KUALOA RANCH HEADQUARTERS 886.9, HI US Precipitation: 0.72 Elevation: 7.0 Longitude:-157.8374 Latitude:21.5213  Date:2014-08-09 \n",
      "Station: USC00516128 Name: MANOA LYON ARBO 785.2, HI US Precipitation: 0.72 Elevation: 152.4 Longitude:-157.8025 Latitude:21.3331  Date:2014-07-21 \n",
      "Station: USC00514830 Name: KUALOA RANCH HEADQUARTERS 886.9, HI US Precipitation: 0.57 Elevation: 7.0 Longitude:-157.8374 Latitude:21.5213  Date:2014-07-21 \n",
      "Station: USC00514830 Name: KUALOA RANCH HEADQUARTERS 886.9, HI US Precipitation: 0.56 Elevation: 7.0 Longitude:-157.8374 Latitude:21.5213  Date:2014-08-08 \n",
      "Station: USC00519281 Name: WAIHEE 837.5, HI US Precipitation: 0.49 Elevation: 32.9 Longitude:-157.84888999999998 Latitude:21.45167  Date:2014-07-22 \n",
      "Station: USC00511918 Name: HONOLULU OBSERVATORY 702.2, HI US Precipitation: 0.42 Elevation: 0.9 Longitude:-157.9992 Latitude:21.3152  Date:2014-08-09 \n",
      "Station: USC00516128 Name: MANOA LYON ARBO 785.2, HI US Precipitation: 0.41 Elevation: 152.4 Longitude:-157.8025 Latitude:21.3331  Date:2014-08-10 \n",
      "Station: USC00519523 Name: WAIMANALO EXPERIMENTAL FARM, HI US Precipitation: 0.41 Elevation: 19.5 Longitude:-157.71139 Latitude:21.33556  Date:2014-07-22 \n",
      "Station: USC00513117 Name: KANEOHE 838.1, HI US Precipitation: 0.37 Elevation: 14.6 Longitude:-157.8015 Latitude:21.4234  Date:2014-08-13 \n",
      "Station: USC00519523 Name: WAIMANALO EXPERIMENTAL FARM, HI US Precipitation: 0.36 Elevation: 19.5 Longitude:-157.71139 Latitude:21.33556  Date:2014-08-06 \n",
      "Station: USC00513117 Name: KANEOHE 838.1, HI US Precipitation: 0.31 Elevation: 14.6 Longitude:-157.8015 Latitude:21.4234  Date:2014-07-23 \n",
      "Station: USC00513117 Name: KANEOHE 838.1, HI US Precipitation: 0.31 Elevation: 14.6 Longitude:-157.8015 Latitude:21.4234  Date:2014-08-09 \n",
      "Station: USC00519281 Name: WAIHEE 837.5, HI US Precipitation: 0.31 Elevation: 32.9 Longitude:-157.84888999999998 Latitude:21.45167  Date:2014-08-02 \n",
      "Station: USC00514830 Name: KUALOA RANCH HEADQUARTERS 886.9, HI US Precipitation: 0.29 Elevation: 7.0 Longitude:-157.8374 Latitude:21.5213  Date:2014-08-07 \n",
      "Station: USC00519281 Name: WAIHEE 837.5, HI US Precipitation: 0.29 Elevation: 32.9 Longitude:-157.84888999999998 Latitude:21.45167  Date:2014-08-08 \n",
      "Station: USC00519523 Name: WAIMANALO EXPERIMENTAL FARM, HI US Precipitation: 0.27 Elevation: 19.5 Longitude:-157.71139 Latitude:21.33556  Date:2014-08-13 \n",
      "Station: USC00514830 Name: KUALOA RANCH HEADQUARTERS 886.9, HI US Precipitation: 0.26 Elevation: 7.0 Longitude:-157.8374 Latitude:21.5213  Date:2014-07-23 \n",
      "Station: USC00516128 Name: MANOA LYON ARBO 785.2, HI US Precipitation: 0.26 Elevation: 152.4 Longitude:-157.8025 Latitude:21.3331  Date:2014-07-26 \n",
      "Station: USC00516128 Name: MANOA LYON ARBO 785.2, HI US Precipitation: 0.26 Elevation: 152.4 Longitude:-157.8025 Latitude:21.3331  Date:2014-08-06 \n",
      "Station: USC00519281 Name: WAIHEE 837.5, HI US Precipitation: 0.17 Elevation: 32.9 Longitude:-157.84888999999998 Latitude:21.45167  Date:2014-07-21 \n",
      "Station: USC00519281 Name: WAIHEE 837.5, HI US Precipitation: 0.17 Elevation: 32.9 Longitude:-157.84888999999998 Latitude:21.45167  Date:2014-08-13 \n",
      "Station: USC00519281 Name: WAIHEE 837.5, HI US Precipitation: 0.16 Elevation: 32.9 Longitude:-157.84888999999998 Latitude:21.45167  Date:2014-07-27 \n",
      "Station: USC00519397 Name: WAIKIKI 717.2, HI US Precipitation: 0.15 Elevation: 3.0 Longitude:-157.8168 Latitude:21.2716  Date:2014-08-07 \n",
      "Station: USC00516128 Name: MANOA LYON ARBO 785.2, HI US Precipitation: 0.14 Elevation: 152.4 Longitude:-157.8025 Latitude:21.3331  Date:2014-07-22 \n",
      "Station: USC00516128 Name: MANOA LYON ARBO 785.2, HI US Precipitation: 0.13 Elevation: 152.4 Longitude:-157.8025 Latitude:21.3331  Date:2014-07-24 \n",
      "Station: USC00519281 Name: WAIHEE 837.5, HI US Precipitation: 0.13 Elevation: 32.9 Longitude:-157.84888999999998 Latitude:21.45167  Date:2014-07-26 \n",
      "Station: USC00519523 Name: WAIMANALO EXPERIMENTAL FARM, HI US Precipitation: 0.12 Elevation: 19.5 Longitude:-157.71139 Latitude:21.33556  Date:2014-08-09 \n",
      "Station: USC00516128 Name: MANOA LYON ARBO 785.2, HI US Precipitation: 0.11 Elevation: 152.4 Longitude:-157.8025 Latitude:21.3331  Date:2014-08-13 \n",
      "Station: USC00516128 Name: MANOA LYON ARBO 785.2, HI US Precipitation: 0.11 Elevation: 152.4 Longitude:-157.8025 Latitude:21.3331  Date:2014-08-15 \n",
      "Station: USC00511918 Name: HONOLULU OBSERVATORY 702.2, HI US Precipitation: 0.1 Elevation: 0.9 Longitude:-157.9992 Latitude:21.3152  Date:2014-07-27 \n",
      "Station: USC00513117 Name: KANEOHE 838.1, HI US Precipitation: 0.1 Elevation: 14.6 Longitude:-157.8015 Latitude:21.4234  Date:2014-08-02 \n",
      "Station: USC00514830 Name: KUALOA RANCH HEADQUARTERS 886.9, HI US Precipitation: 0.1 Elevation: 7.0 Longitude:-157.8374 Latitude:21.5213  Date:2014-08-13 \n",
      "Station: USC00514830 Name: KUALOA RANCH HEADQUARTERS 886.9, HI US Precipitation: 0.09 Elevation: 7.0 Longitude:-157.8374 Latitude:21.5213  Date:2014-08-02 \n",
      "Station: USC00511918 Name: HONOLULU OBSERVATORY 702.2, HI US Precipitation: 0.08 Elevation: 0.9 Longitude:-157.9992 Latitude:21.3152  Date:2014-08-08 \n",
      "Station: USC00513117 Name: KANEOHE 838.1, HI US Precipitation: 0.08 Elevation: 14.6 Longitude:-157.8015 Latitude:21.4234  Date:2014-08-08 \n",
      "Station: USC00516128 Name: MANOA LYON ARBO 785.2, HI US Precipitation: 0.07 Elevation: 152.4 Longitude:-157.8025 Latitude:21.3331  Date:2014-08-14 \n",
      "Station: USC00519281 Name: WAIHEE 837.5, HI US Precipitation: 0.07 Elevation: 32.9 Longitude:-157.84888999999998 Latitude:21.45167  Date:2014-08-03 \n",
      "Station: USC00519523 Name: WAIMANALO EXPERIMENTAL FARM, HI US Precipitation: 0.07 Elevation: 19.5 Longitude:-157.71139 Latitude:21.33556  Date:2014-07-21 \n",
      "Station: USC00513117 Name: KANEOHE 838.1, HI US Precipitation: 0.06 Elevation: 14.6 Longitude:-157.8015 Latitude:21.4234  Date:2014-08-10 \n",
      "Station: USC00516128 Name: MANOA LYON ARBO 785.2, HI US Precipitation: 0.06 Elevation: 152.4 Longitude:-157.8025 Latitude:21.3331  Date:2014-08-01 \n",
      "Station: USC00519281 Name: WAIHEE 837.5, HI US Precipitation: 0.06 Elevation: 32.9 Longitude:-157.84888999999998 Latitude:21.45167  Date:2014-07-23 \n",
      "Station: USC00519397 Name: WAIKIKI 717.2, HI US Precipitation: 0.06 Elevation: 3.0 Longitude:-157.8168 Latitude:21.2716  Date:2014-08-14 \n",
      "Station: USC00513117 Name: KANEOHE 838.1, HI US Precipitation: 0.05 Elevation: 14.6 Longitude:-157.8015 Latitude:21.4234  Date:2014-07-21 \n",
      "Station: USC00514830 Name: KUALOA RANCH HEADQUARTERS 886.9, HI US Precipitation: 0.05 Elevation: 7.0 Longitude:-157.8374 Latitude:21.5213  Date:2014-07-22 \n",
      "Station: USC00516128 Name: MANOA LYON ARBO 785.2, HI US Precipitation: 0.05 Elevation: 152.4 Longitude:-157.8025 Latitude:21.3331  Date:2014-07-25 \n",
      "Station: USC00513117 Name: KANEOHE 838.1, HI US Precipitation: 0.04 Elevation: 14.6 Longitude:-157.8015 Latitude:21.4234  Date:2014-07-27 \n",
      "Station: USC00513117 Name: KANEOHE 838.1, HI US Precipitation: 0.04 Elevation: 14.6 Longitude:-157.8015 Latitude:21.4234  Date:2014-08-06 \n",
      "Station: USC00519281 Name: WAIHEE 837.5, HI US Precipitation: 0.04 Elevation: 32.9 Longitude:-157.84888999999998 Latitude:21.45167  Date:2014-08-14 \n",
      "Station: USC00511918 Name: HONOLULU OBSERVATORY 702.2, HI US Precipitation: 0.03 Elevation: 0.9 Longitude:-157.9992 Latitude:21.3152  Date:2014-08-06 \n",
      "Station: USC00513117 Name: KANEOHE 838.1, HI US Precipitation: 0.03 Elevation: 14.6 Longitude:-157.8015 Latitude:21.4234  Date:2014-08-07 \n",
      "Station: USC00516128 Name: MANOA LYON ARBO 785.2, HI US Precipitation: 0.03 Elevation: 152.4 Longitude:-157.8025 Latitude:21.3331  Date:2014-08-03 \n",
      "Station: USC00519281 Name: WAIHEE 837.5, HI US Precipitation: 0.03 Elevation: 32.9 Longitude:-157.84888999999998 Latitude:21.45167  Date:2014-08-10 \n",
      "Station: USC00511918 Name: HONOLULU OBSERVATORY 702.2, HI US Precipitation: 0.02 Elevation: 0.9 Longitude:-157.9992 Latitude:21.3152  Date:2014-08-07 \n",
      "Station: USC00513117 Name: KANEOHE 838.1, HI US Precipitation: 0.02 Elevation: 14.6 Longitude:-157.8015 Latitude:21.4234  Date:2014-07-26 \n",
      "Station: USC00514830 Name: KUALOA RANCH HEADQUARTERS 886.9, HI US Precipitation: 0.02 Elevation: 7.0 Longitude:-157.8374 Latitude:21.5213  Date:2014-07-24 \n",
      "Station: USC00514830 Name: KUALOA RANCH HEADQUARTERS 886.9, HI US Precipitation: 0.02 Elevation: 7.0 Longitude:-157.8374 Latitude:21.5213  Date:2014-07-25 \n",
      "Station: USC00516128 Name: MANOA LYON ARBO 785.2, HI US Precipitation: 0.02 Elevation: 152.4 Longitude:-157.8025 Latitude:21.3331  Date:2014-07-31 \n",
      "Station: USC00516128 Name: MANOA LYON ARBO 785.2, HI US Precipitation: 0.02 Elevation: 152.4 Longitude:-157.8025 Latitude:21.3331  Date:2014-08-07 \n",
      "Station: USC00517948 Name: PEARL CITY, HI US Precipitation: 0.02 Elevation: 11.9 Longitude:-157.9751 Latitude:21.3934  Date:2014-08-13 \n",
      "Station: USC00519281 Name: WAIHEE 837.5, HI US Precipitation: 0.02 Elevation: 32.9 Longitude:-157.84888999999998 Latitude:21.45167  Date:2014-07-24 \n",
      "Station: USC00519281 Name: WAIHEE 837.5, HI US Precipitation: 0.02 Elevation: 32.9 Longitude:-157.84888999999998 Latitude:21.45167  Date:2014-08-04 \n",
      "Station: USC00519281 Name: WAIHEE 837.5, HI US Precipitation: 0.02 Elevation: 32.9 Longitude:-157.84888999999998 Latitude:21.45167  Date:2014-08-07 \n",
      "Station: USC00519281 Name: WAIHEE 837.5, HI US Precipitation: 0.02 Elevation: 32.9 Longitude:-157.84888999999998 Latitude:21.45167  Date:2014-08-15 \n",
      "Station: USC00511918 Name: HONOLULU OBSERVATORY 702.2, HI US Precipitation: 0.01 Elevation: 0.9 Longitude:-157.9992 Latitude:21.3152  Date:2014-07-21 \n",
      "Station: USC00511918 Name: HONOLULU OBSERVATORY 702.2, HI US Precipitation: 0.01 Elevation: 0.9 Longitude:-157.9992 Latitude:21.3152  Date:2014-07-23 \n",
      "Station: USC00511918 Name: HONOLULU OBSERVATORY 702.2, HI US Precipitation: 0.01 Elevation: 0.9 Longitude:-157.9992 Latitude:21.3152  Date:2014-08-10 \n",
      "Station: USC00513117 Name: KANEOHE 838.1, HI US Precipitation: 0.01 Elevation: 14.6 Longitude:-157.8015 Latitude:21.4234  Date:2014-07-22 \n",
      "Station: USC00513117 Name: KANEOHE 838.1, HI US Precipitation: 0.01 Elevation: 14.6 Longitude:-157.8015 Latitude:21.4234  Date:2014-08-15 \n",
      "Station: USC00514830 Name: KUALOA RANCH HEADQUARTERS 886.9, HI US Precipitation: 0.01 Elevation: 7.0 Longitude:-157.8374 Latitude:21.5213  Date:2014-08-06 \n",
      "Station: USC00514830 Name: KUALOA RANCH HEADQUARTERS 886.9, HI US Precipitation: 0.01 Elevation: 7.0 Longitude:-157.8374 Latitude:21.5213  Date:2014-08-12 \n",
      "Station: USC00519397 Name: WAIKIKI 717.2, HI US Precipitation: 0.01 Elevation: 3.0 Longitude:-157.8168 Latitude:21.2716  Date:2014-07-23 \n",
      "Station: USC00519397 Name: WAIKIKI 717.2, HI US Precipitation: 0.01 Elevation: 3.0 Longitude:-157.8168 Latitude:21.2716  Date:2014-08-06 \n"
     ]
    }
   ],
   "source": [
    "# Calculate the total amount of rainfall per weather station for your trip dates using the previous year's matching dates.\n",
    "# Sort this in descending order by precipitation amount and list the station, name, latitude, longitude, and elevation\n",
    "\n",
    "join_result = engine.execute('SELECT Measurement.station as station ,date,Station.name,Station.Longitude,Station.Latitude,Station.elevation, sum(prcp) as precipitation FROM Measurement INNER JOIN Station ON Measurement.station = Station.station and Measurement.date<=\"2014-08-15\" and Measurement.date >= \"2014-07-20\" and prcp!=0.0 GROUP BY Measurement.station,date,Station.name,Station.Longitude,Station.Latitude,Station.elevation ORDER BY sum(prcp) DESC;').fetchall()\n",
    "join_result\n",
    "\n",
    "for r in join_result:\n",
    "    print (\"Station: {} Name: {} Precipitation: {} Elevation: {} Longitude:{} Latitude:{}  Date:{} \".format(r.station,r.name,r.precipitation, r.elevation,r.longitude,r.latitude,r.date))\n"
   ]
  },
  {
   "cell_type": "markdown",
   "metadata": {},
   "source": [
    "## Optional Challenge Assignment"
   ]
  },
  {
   "cell_type": "code",
   "execution_count": 20,
   "metadata": {},
   "outputs": [
    {
     "data": {
      "text/plain": [
       "[(62.0, 69.15384615384616, 77.0)]"
      ]
     },
     "execution_count": 20,
     "metadata": {},
     "output_type": "execute_result"
    }
   ],
   "source": [
    "# Create a query that will calculate the daily normals \n",
    "# (i.e. the averages for tmin, tmax, and tavg for all historic data matching a specific month and day)\n",
    "\n",
    "def daily_normals(date):\n",
    "    \"\"\"Daily Normals.\n",
    "    \n",
    "    Args:\n",
    "        date (str): A date string in the format '%m-%d'\n",
    "        \n",
    "    Returns:\n",
    "        A list of tuples containing the daily normals, tmin, tavg, and tmax\n",
    "    \n",
    "    \"\"\"\n",
    "    \n",
    "    sel = [func.min(Measurement.tobs), func.avg(Measurement.tobs), func.max(Measurement.tobs)]\n",
    "    return session.query(*sel).filter(func.strftime(\"%m-%d\", Measurement.date) == date).all()\n",
    "    \n",
    "daily_normals(\"01-01\")\n"
   ]
  },
  {
   "cell_type": "code",
   "execution_count": 144,
   "metadata": {},
   "outputs": [
    {
     "name": "stdout",
     "output_type": "stream",
     "text": [
      "DatetimeIndex(['2017-07-20', '2017-07-21', '2017-07-22', '2017-07-23',\n",
      "               '2017-07-24', '2017-07-25', '2017-07-26', '2017-07-27',\n",
      "               '2017-07-28', '2017-07-29', '2017-07-30', '2017-07-31',\n",
      "               '2017-08-01', '2017-08-02', '2017-08-03', '2017-08-04',\n",
      "               '2017-08-05', '2017-08-06', '2017-08-07', '2017-08-08',\n",
      "               '2017-08-09', '2017-08-10', '2017-08-11', '2017-08-12',\n",
      "               '2017-08-13', '2017-08-14', '2017-08-15'],\n",
      "              dtype='datetime64[ns]', freq='D')\n"
     ]
    }
   ],
   "source": [
    "import pandas as pd\n",
    "import pytz\n",
    "\n",
    "# calculate the daily normals for your trip\n",
    "# push each tuple of calculations into a list called `normals`\n",
    "\n",
    "# Set the start and end date of the trip\n",
    "start_date=\"2017-07-20\"\n",
    "end_date=\"2017-08-15\"\n",
    "\n",
    "# Use the start and end date to create a range of dates\n",
    "normals=[]\n",
    "\n",
    "index = pd.date_range('20170720 00:00', freq='1d', periods=27)\n",
    "df = pd.DataFrame(1, index=index, columns=['X'])\n",
    "print(df.index)\n",
    "\n",
    "# row2 = df.iloc[:1]\n",
    "# ri=row2.index\n",
    "# print(str(index).split('-'))\n",
    "# new = str(index).split('-')\n",
    "# new\n",
    "# print(index.strftime(\"%Y\"))\n",
    "# print(index.strftime(\"%m\"))\n",
    "# print(index.strftime(\"%d\"))\n",
    "# print(index.strftime(\"%m\")+\"-\"+index.strftime(\"%d\"))\n",
    "\n",
    "\n",
    "# Stip off the year and save a list of %m-%d strings\n",
    "date_str=index.strftime(\"%m\")+\"-\"+index.strftime(\"%d\")\n",
    "\n",
    "# Loop through the list of %m-%d strings and calculate the normals for each date\n",
    "tmin=[]\n",
    "tmax=[]\n",
    "tavg=[]\n",
    "for i in range(len(date_str)):\n",
    "#     print(daily_normals(date_str[i]))\n",
    "    normals.append(daily_normals(date_str[i]))\n",
    "    \n",
    "# normals\n",
    "\n",
    "tmin=[]\n",
    "tmax=[]\n",
    "tavg=[]\n",
    "for row in normals:\n",
    "    tmin_data=int(row[0][0])\n",
    "    tmax_data=int(row[0][1])\n",
    "    tavg_data=int(row[0][2])\n",
    "    tmin.append(tmin_data)\n",
    "    tmax.append(tmax_data)\n",
    "    tavg.append(tavg_data)\n",
    "#     print(tmin_data)\n",
    "# tavg"
   ]
  },
  {
   "cell_type": "code",
   "execution_count": 135,
   "metadata": {},
   "outputs": [
    {
     "data": {
      "text/html": [
       "<div>\n",
       "<style scoped>\n",
       "    .dataframe tbody tr th:only-of-type {\n",
       "        vertical-align: middle;\n",
       "    }\n",
       "\n",
       "    .dataframe tbody tr th {\n",
       "        vertical-align: top;\n",
       "    }\n",
       "\n",
       "    .dataframe thead th {\n",
       "        text-align: right;\n",
       "    }\n",
       "</style>\n",
       "<table border=\"1\" class=\"dataframe\">\n",
       "  <thead>\n",
       "    <tr style=\"text-align: right;\">\n",
       "      <th></th>\n",
       "      <th>tmin</th>\n",
       "      <th>tmax</th>\n",
       "      <th>tavg</th>\n",
       "    </tr>\n",
       "    <tr>\n",
       "      <th>index</th>\n",
       "      <th></th>\n",
       "      <th></th>\n",
       "      <th></th>\n",
       "    </tr>\n",
       "  </thead>\n",
       "  <tbody>\n",
       "    <tr>\n",
       "      <td>2017-07-20</td>\n",
       "      <td>69</td>\n",
       "      <td>75</td>\n",
       "      <td>82</td>\n",
       "    </tr>\n",
       "    <tr>\n",
       "      <td>2017-07-21</td>\n",
       "      <td>69</td>\n",
       "      <td>76</td>\n",
       "      <td>83</td>\n",
       "    </tr>\n",
       "    <tr>\n",
       "      <td>2017-07-22</td>\n",
       "      <td>69</td>\n",
       "      <td>75</td>\n",
       "      <td>81</td>\n",
       "    </tr>\n",
       "    <tr>\n",
       "      <td>2017-07-23</td>\n",
       "      <td>70</td>\n",
       "      <td>76</td>\n",
       "      <td>84</td>\n",
       "    </tr>\n",
       "    <tr>\n",
       "      <td>2017-07-24</td>\n",
       "      <td>69</td>\n",
       "      <td>76</td>\n",
       "      <td>81</td>\n",
       "    </tr>\n",
       "    <tr>\n",
       "      <td>2017-07-25</td>\n",
       "      <td>67</td>\n",
       "      <td>76</td>\n",
       "      <td>84</td>\n",
       "    </tr>\n",
       "    <tr>\n",
       "      <td>2017-07-26</td>\n",
       "      <td>71</td>\n",
       "      <td>76</td>\n",
       "      <td>86</td>\n",
       "    </tr>\n",
       "    <tr>\n",
       "      <td>2017-07-27</td>\n",
       "      <td>68</td>\n",
       "      <td>76</td>\n",
       "      <td>83</td>\n",
       "    </tr>\n",
       "    <tr>\n",
       "      <td>2017-07-28</td>\n",
       "      <td>69</td>\n",
       "      <td>76</td>\n",
       "      <td>82</td>\n",
       "    </tr>\n",
       "    <tr>\n",
       "      <td>2017-07-29</td>\n",
       "      <td>69</td>\n",
       "      <td>76</td>\n",
       "      <td>83</td>\n",
       "    </tr>\n",
       "    <tr>\n",
       "      <td>2017-07-30</td>\n",
       "      <td>69</td>\n",
       "      <td>77</td>\n",
       "      <td>84</td>\n",
       "    </tr>\n",
       "    <tr>\n",
       "      <td>2017-07-31</td>\n",
       "      <td>72</td>\n",
       "      <td>77</td>\n",
       "      <td>83</td>\n",
       "    </tr>\n",
       "    <tr>\n",
       "      <td>2017-08-01</td>\n",
       "      <td>67</td>\n",
       "      <td>75</td>\n",
       "      <td>83</td>\n",
       "    </tr>\n",
       "    <tr>\n",
       "      <td>2017-08-02</td>\n",
       "      <td>68</td>\n",
       "      <td>75</td>\n",
       "      <td>84</td>\n",
       "    </tr>\n",
       "    <tr>\n",
       "      <td>2017-08-03</td>\n",
       "      <td>70</td>\n",
       "      <td>76</td>\n",
       "      <td>85</td>\n",
       "    </tr>\n",
       "    <tr>\n",
       "      <td>2017-08-04</td>\n",
       "      <td>69</td>\n",
       "      <td>76</td>\n",
       "      <td>84</td>\n",
       "    </tr>\n",
       "    <tr>\n",
       "      <td>2017-08-05</td>\n",
       "      <td>69</td>\n",
       "      <td>76</td>\n",
       "      <td>82</td>\n",
       "    </tr>\n",
       "    <tr>\n",
       "      <td>2017-08-06</td>\n",
       "      <td>67</td>\n",
       "      <td>76</td>\n",
       "      <td>83</td>\n",
       "    </tr>\n",
       "    <tr>\n",
       "      <td>2017-08-07</td>\n",
       "      <td>71</td>\n",
       "      <td>77</td>\n",
       "      <td>83</td>\n",
       "    </tr>\n",
       "    <tr>\n",
       "      <td>2017-08-08</td>\n",
       "      <td>68</td>\n",
       "      <td>76</td>\n",
       "      <td>83</td>\n",
       "    </tr>\n",
       "    <tr>\n",
       "      <td>2017-08-09</td>\n",
       "      <td>69</td>\n",
       "      <td>75</td>\n",
       "      <td>81</td>\n",
       "    </tr>\n",
       "    <tr>\n",
       "      <td>2017-08-10</td>\n",
       "      <td>65</td>\n",
       "      <td>76</td>\n",
       "      <td>83</td>\n",
       "    </tr>\n",
       "    <tr>\n",
       "      <td>2017-08-11</td>\n",
       "      <td>67</td>\n",
       "      <td>75</td>\n",
       "      <td>82</td>\n",
       "    </tr>\n",
       "    <tr>\n",
       "      <td>2017-08-12</td>\n",
       "      <td>67</td>\n",
       "      <td>76</td>\n",
       "      <td>83</td>\n",
       "    </tr>\n",
       "    <tr>\n",
       "      <td>2017-08-13</td>\n",
       "      <td>71</td>\n",
       "      <td>76</td>\n",
       "      <td>84</td>\n",
       "    </tr>\n",
       "    <tr>\n",
       "      <td>2017-08-14</td>\n",
       "      <td>71</td>\n",
       "      <td>76</td>\n",
       "      <td>82</td>\n",
       "    </tr>\n",
       "    <tr>\n",
       "      <td>2017-08-15</td>\n",
       "      <td>69</td>\n",
       "      <td>76</td>\n",
       "      <td>83</td>\n",
       "    </tr>\n",
       "  </tbody>\n",
       "</table>\n",
       "</div>"
      ],
      "text/plain": [
       "            tmin  tmax  tavg\n",
       "index                       \n",
       "2017-07-20    69    75    82\n",
       "2017-07-21    69    76    83\n",
       "2017-07-22    69    75    81\n",
       "2017-07-23    70    76    84\n",
       "2017-07-24    69    76    81\n",
       "2017-07-25    67    76    84\n",
       "2017-07-26    71    76    86\n",
       "2017-07-27    68    76    83\n",
       "2017-07-28    69    76    82\n",
       "2017-07-29    69    76    83\n",
       "2017-07-30    69    77    84\n",
       "2017-07-31    72    77    83\n",
       "2017-08-01    67    75    83\n",
       "2017-08-02    68    75    84\n",
       "2017-08-03    70    76    85\n",
       "2017-08-04    69    76    84\n",
       "2017-08-05    69    76    82\n",
       "2017-08-06    67    76    83\n",
       "2017-08-07    71    77    83\n",
       "2017-08-08    68    76    83\n",
       "2017-08-09    69    75    81\n",
       "2017-08-10    65    76    83\n",
       "2017-08-11    67    75    82\n",
       "2017-08-12    67    76    83\n",
       "2017-08-13    71    76    84\n",
       "2017-08-14    71    76    82\n",
       "2017-08-15    69    76    83"
      ]
     },
     "execution_count": 135,
     "metadata": {},
     "output_type": "execute_result"
    }
   ],
   "source": [
    "# Load the previous query results into a Pandas DataFrame and add the `trip_dates` range as the `date` index\n",
    "df_trip = pd.DataFrame({'tmin':tmin,'tmax':tmax,'tavg':tavg, 'index':index})\n",
    "df_trip=df_trip.set_index('index')\n",
    "df_trip"
   ]
  },
  {
   "cell_type": "code",
   "execution_count": 160,
   "metadata": {},
   "outputs": [
    {
     "data": {
      "image/png": "[encoded data removed]",
      "text/plain": [
       "<Figure size 432x288 with 1 Axes>"
      ]
     },
     "metadata": {
      "needs_background": "light"
     },
     "output_type": "display_data"
    }
   ],
   "source": [
    "# Plot the daily normals as an area plot with `stacked=False`\n",
    "# library\n",
    "import numpy as np\n",
    "import matplotlib.pyplot as plt\n",
    " \n",
    "# --- FORMAT 1\n",
    " \n",
    "# Your x and y axis\n",
    "x=df_trip.index\n",
    "y1=df_trip['tmin']\n",
    "y2=df_trip['tmax']\n",
    "y3=df_trip['tavg']\n",
    "# print(y3)       \n",
    "\n",
    "# Basic stacked area chart.\n",
    "# plt.stackplot(x,y, labels=['tmin,tmax,tavg'])\n",
    "# plt.legend(loc='upper left')\n",
    "# plt.show()\n",
    " \n",
    "# --- FORMAT 2</pre>\n",
    "# x=range(1,6)\n",
    "# y1=[1,4,6,8,9]\n",
    "# y2=[2,2,7,10,12]\n",
    "# y3=[2,8,5,10,6]\n",
    " \n",
    "# Basic stacked area chart.\n",
    "# plt.stackplot(x,y1, y2, y3, baseline='zero',stacked=False, labels=['tmin','tmax','tavg'])\n",
    "# plt.legend(loc='upper left')\n",
    "# plt.title('daily normals for the duration of trip')\n",
    "\n",
    "# df_trip.plot(kind='area', stacked=False, alpha=0.5, colormap='Spectral',\n",
    "#         title='Area Plot')\n",
    "# ax = df_trip.plot.area(stacked=False)\n",
    "# ax.xticklabels(x)\n",
    "plt.plot([],[],color='m', label='tmin', linewidth=5)\n",
    "plt.plot([],[],color='c', label='tmax', linewidth=5)\n",
    "plt.plot([],[],color='r', label='tavg', linewidth=5)\n",
    "plt.stackplot(x, y1,y2,y3, colors=['m','c','r'])\n",
    "# df_trip.plot.area(stacked=False)\n",
    "plt.xlabel('Date')\n",
    "# plt.ylabel('y')\n",
    "plt.title('Interesting Graph\\nCheck it out')\n",
    "plt.legend()\n",
    "plt.autoscale(enable=True, axis='both', tight=True)\n",
    "plt.autumn()\n",
    "plt.xticks(rotation=45)\n",
    "plt.axis('tight')\n",
    "plt.show()\n",
    "#"
   ]
  },
  {
   "cell_type": "code",
   "execution_count": null,
   "metadata": {},
   "outputs": [],
   "source": []
  }
 ],
 "metadata": {
  "kernel_info": {
   "name": "python3"
  },
  "kernelspec": {
   "display_name": "Python 3",
   "language": "python",
   "name": "python3"
  },
  "language_info": {
   "codemirror_mode": {
    "name": "ipython",
    "version": 3
   },
   "file_extension": ".py",
   "mimetype": "text/x-python",
   "name": "python",
   "nbconvert_exporter": "python",
   "pygments_lexer": "ipython3",
   "version": "3.6.9"
  },
  "nteract": {
   "version": "0.12.3"
  },
  "varInspector": {
   "cols": {
    "lenName": 16,
    "lenType": 16,
    "lenVar": 40
   },
   "kernels_config": {
    "python": {
     "delete_cmd_postfix": "",
     "delete_cmd_prefix": "del ",
     "library": "var_list.py",
     "varRefreshCmd": "print(var_dic_list())"
    },
    "r": {
     "delete_cmd_postfix": ") ",
     "delete_cmd_prefix": "rm(",
     "library": "var_list.r",
     "varRefreshCmd": "cat(var_dic_list()) "
    }
   },
   "types_to_exclude": [
    "module",
    "function",
    "builtin_function_or_method",
    "instance",
    "_Feature"
   ],
   "window_display": false
  }
 },
 "nbformat": 4,
 "nbformat_minor": 2
}
