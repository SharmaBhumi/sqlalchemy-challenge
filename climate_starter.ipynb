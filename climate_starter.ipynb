{
 "cells": [
  {
   "cell_type": "code",
   "execution_count": 1,
   "metadata": {},
   "outputs": [],
   "source": [
    "%matplotlib inline\n",
    "from matplotlib import style\n",
    "style.use('fivethirtyeight')\n",
    "import matplotlib.pyplot as plt"
   ]
  },
  {
   "cell_type": "code",
   "execution_count": 2,
   "metadata": {},
   "outputs": [],
   "source": [
    "import numpy as np\n",
    "import pandas as pd"
   ]
  },
  {
   "cell_type": "code",
   "execution_count": 3,
   "metadata": {},
   "outputs": [],
   "source": [
    "import datetime as dt"
   ]
  },
  {
   "cell_type": "markdown",
   "metadata": {},
   "source": [
    "# Reflect Tables into SQLAlchemy ORM"
   ]
  },
  {
   "cell_type": "code",
   "execution_count": 4,
   "metadata": {},
   "outputs": [],
   "source": [
    "# Python SQL toolkit and Object Relational Mapper\n",
    "import sqlalchemy\n",
    "from sqlalchemy.ext.automap import automap_base\n",
    "from sqlalchemy.orm import Session\n",
    "from sqlalchemy import create_engine, func,inspect"
   ]
  },
  {
   "cell_type": "code",
   "execution_count": 5,
   "metadata": {},
   "outputs": [],
   "source": [
    "engine = create_engine(\"sqlite:///Resources/hawaii.sqlite\")"
   ]
  },
  {
   "cell_type": "code",
   "execution_count": 6,
   "metadata": {},
   "outputs": [],
   "source": [
    "# reflect an existing database into a new model\n",
    "Base = automap_base()\n",
    "# reflect the tables\n",
    "Base.prepare(engine, reflect=True)"
   ]
  },
  {
   "cell_type": "code",
   "execution_count": 7,
   "metadata": {},
   "outputs": [
    {
     "data": {
      "text/plain": [
       "['measurement', 'station']"
      ]
     },
     "execution_count": 7,
     "metadata": {},
     "output_type": "execute_result"
    }
   ],
   "source": [
    "# We can view all of the classes that automap found\n",
    "Base.classes.keys()"
   ]
  },
  {
   "cell_type": "code",
   "execution_count": 8,
   "metadata": {},
   "outputs": [],
   "source": [
    "# Save references to each table\n",
    "Measurement = Base.classes.measurement\n",
    "Station = Base.classes.station"
   ]
  },
  {
   "cell_type": "code",
   "execution_count": 9,
   "metadata": {},
   "outputs": [],
   "source": [
    "# Create our session (link) from Python to the DB\n",
    "session = Session(engine)"
   ]
  },
  {
   "cell_type": "markdown",
   "metadata": {},
   "source": [
    "# Exploratory Climate Analysis"
   ]
  },
  {
   "cell_type": "code",
   "execution_count": 10,
   "metadata": {},
   "outputs": [
    {
     "name": "stdout",
     "output_type": "stream",
     "text": [
      "2017-08-23\n",
      "2016-08-23\n",
      "2230\n"
     ]
    },
    {
     "data": {
      "image/png": "[encoded data removed]",
      "text/plain": [
       "<Figure size 432x288 with 1 Axes>"
      ]
     },
     "metadata": {
      "needs_background": "light"
     },
     "output_type": "display_data"
    },
    {
     "data": {
      "text/plain": [
       "<Figure size 432x288 with 0 Axes>"
      ]
     },
     "metadata": {},
     "output_type": "display_data"
    }
   ],
   "source": [
    "# Design a query to retrieve the last 12 months of precipitation data and plot the results\n",
    "# results = session.query()order_by(Emoji.score.desc()).all()\n",
    "\n",
    "#looking at the columns and data sample\n",
    "first_row = session.query(Measurement).first()\n",
    "first_row.__dict__\n",
    "\n",
    "#finding the max date\n",
    "results=session.query(Measurement.date, Measurement.prcp).order_by(Measurement.date.desc()).first()\n",
    "results\n",
    "#('2017-08-23', 0.0)\n",
    "\n",
    "last_date = session.query(Measurement.date).order_by(Measurement.date.desc()).first()[0]\n",
    "\n",
    "print(last_date) \n",
    "\n",
    "last_date_measurement = dt.date(2017, 8 ,23)\n",
    "# Calculate the date 1 year ago from the last data point in the database\n",
    "one_year_ago = last_date_measurement - dt.timedelta(days=365)\n",
    "print(one_year_ago)\n",
    "\n",
    "date = dt.date(2016, 8, 23)\n",
    "\n",
    "# Perform a query to retrieve the data and precipitation scores\n",
    "qry = session.query(Measurement.date, Measurement.prcp).filter(Measurement.date <= '2017-08-23').\\\n",
    "    filter (Measurement.date >= '2016-08-23').all()\n",
    "# Save the query results as a Pandas DataFrame and set the index to the date column\n",
    "result = session.query(Measurement.date, Measurement.prcp).\\\n",
    "    filter(Measurement.date >= date).all()\n",
    "\n",
    "# get the count / length of the list of tuples\n",
    "print(len(result))\n",
    "\n",
    "df = pd.DataFrame(result, columns=['Date', 'Precipitation'])\n",
    "df = df.sort_values('Date')\n",
    "df.set_index('Date', inplace=True)\n",
    "df.plot.line(rot=90)\n",
    "plt.tight_layout()\n",
    "plt.show()\n",
    "plt.savefig(\"./date_vs_precipitation.png\")"
   ]
  },
  {
   "cell_type": "markdown",
   "metadata": {},
   "source": [
    "![precipitation](Images/precipitation.png)"
   ]
  },
  {
   "cell_type": "code",
   "execution_count": 11,
   "metadata": {},
   "outputs": [
    {
     "data": {
      "text/html": [
       "<div>\n",
       "<style scoped>\n",
       "    .dataframe tbody tr th:only-of-type {\n",
       "        vertical-align: middle;\n",
       "    }\n",
       "\n",
       "    .dataframe tbody tr th {\n",
       "        vertical-align: top;\n",
       "    }\n",
       "\n",
       "    .dataframe thead th {\n",
       "        text-align: right;\n",
       "    }\n",
       "</style>\n",
       "<table border=\"1\" class=\"dataframe\">\n",
       "  <thead>\n",
       "    <tr style=\"text-align: right;\">\n",
       "      <th></th>\n",
       "      <th>Precipitation</th>\n",
       "    </tr>\n",
       "  </thead>\n",
       "  <tbody>\n",
       "    <tr>\n",
       "      <td>count</td>\n",
       "      <td>2021.000000</td>\n",
       "    </tr>\n",
       "    <tr>\n",
       "      <td>mean</td>\n",
       "      <td>0.177279</td>\n",
       "    </tr>\n",
       "    <tr>\n",
       "      <td>std</td>\n",
       "      <td>0.461190</td>\n",
       "    </tr>\n",
       "    <tr>\n",
       "      <td>min</td>\n",
       "      <td>0.000000</td>\n",
       "    </tr>\n",
       "    <tr>\n",
       "      <td>25%</td>\n",
       "      <td>0.000000</td>\n",
       "    </tr>\n",
       "    <tr>\n",
       "      <td>50%</td>\n",
       "      <td>0.020000</td>\n",
       "    </tr>\n",
       "    <tr>\n",
       "      <td>75%</td>\n",
       "      <td>0.130000</td>\n",
       "    </tr>\n",
       "    <tr>\n",
       "      <td>max</td>\n",
       "      <td>6.700000</td>\n",
       "    </tr>\n",
       "  </tbody>\n",
       "</table>\n",
       "</div>"
      ],
      "text/plain": [
       "       Precipitation\n",
       "count    2021.000000\n",
       "mean        0.177279\n",
       "std         0.461190\n",
       "min         0.000000\n",
       "25%         0.000000\n",
       "50%         0.020000\n",
       "75%         0.130000\n",
       "max         6.700000"
      ]
     },
     "execution_count": 11,
     "metadata": {},
     "output_type": "execute_result"
    }
   ],
   "source": [
    "# Use Pandas to calcualte the summary statistics for the precipitation data\n",
    "df.describe()"
   ]
  },
  {
   "cell_type": "markdown",
   "metadata": {},
   "source": [
    "![describe](Images/describe.png)"
   ]
  },
  {
   "cell_type": "code",
   "execution_count": 12,
   "metadata": {},
   "outputs": [
    {
     "data": {
      "text/plain": [
       "9"
      ]
     },
     "execution_count": 12,
     "metadata": {},
     "output_type": "execute_result"
    }
   ],
   "source": [
    "# Design a query to show how many stations are available in this dataset?\n",
    "\n",
    "# first_row.__dict__\n",
    "stations=session.query(Measurement.station)\n",
    "measure_stations=[]\n",
    "for s in stations:\n",
    "#     print(s)\n",
    "    measure_stations.append(s[0])\n",
    "\n",
    "stations_df=pd.DataFrame({'stations':measure_stations})\n",
    "station_counts=stations_df['stations'].value_counts()\n",
    "unique_stations_count=len(station_counts)\n",
    "\n",
    "#Number of stations in the dataset\n",
    "unique_stations_count #9\n"
   ]
  },
  {
   "cell_type": "code",
   "execution_count": 13,
   "metadata": {},
   "outputs": [
    {
     "data": {
      "text/plain": [
       "USC00519281    2772\n",
       "USC00519397    2724\n",
       "USC00513117    2709\n",
       "USC00519523    2669\n",
       "USC00516128    2612\n",
       "USC00514830    2202\n",
       "USC00511918    1979\n",
       "USC00517948    1372\n",
       "USC00518838     511\n",
       "Name: stations, dtype: int64"
      ]
     },
     "execution_count": 13,
     "metadata": {},
     "output_type": "execute_result"
    }
   ],
   "source": [
    "# What are the most active stations? (i.e. what stations have the most rows)?\n",
    "# List the stations and the counts in descending order.\n",
    "station_counts"
   ]
  },
  {
   "cell_type": "code",
   "execution_count": 14,
   "metadata": {},
   "outputs": [
    {
     "name": "stdout",
     "output_type": "stream",
     "text": [
      "198652.0\n"
     ]
    },
    {
     "data": {
      "text/plain": [
       "((54.0), (85.0), 71.66378066378067)"
      ]
     },
     "execution_count": 14,
     "metadata": {},
     "output_type": "execute_result"
    }
   ],
   "source": [
    "# Using the station id from the previous query, calculate the lowest temperature recorded, \n",
    "# highest temperature recorded, and average temperature of the most active station?\n",
    "highest_temp=session.query(Measurement.tobs).filter(Measurement.station == 'USC00519281').order_by(Measurement.tobs.desc()).first()\n",
    "lowest_temp=session.query(Measurement.tobs).filter(Measurement.station == 'USC00519281').order_by(Measurement.tobs.asc()).first()\n",
    "\n",
    "# first_row.__dict__\n",
    "\n",
    "#collecting teh temerature data for station == 'USC00519281'\n",
    "a_temp=session.query(Measurement.tobs).filter(Measurement.station == 'USC00519281')\n",
    "\n",
    "#Calculating the total temperature\n",
    "total_tmp=0\n",
    "for temp in a_temp:\n",
    "#     print(temp[0])\n",
    "    total_tmp+=temp[0]\n",
    "\n",
    "print(total_tmp)\n",
    "\n",
    "#Counting the number of rows\n",
    "tmp_count=session.query(Measurement.tobs).filter(Measurement.station == 'USC00519281').count()\n",
    "tmp_count\n",
    "\n",
    "#Average temeratuer calculation\n",
    "avg_tmp=total_tmp/tmp_count\n",
    "\n",
    "lowest_temp,highest_temp,avg_tmp"
   ]
  },
  {
   "cell_type": "code",
   "execution_count": 15,
   "metadata": {},
   "outputs": [
    {
     "data": {
      "image/png": "[encoded data removed]",
      "text/plain": [
       "<Figure size 432x288 with 1 Axes>"
      ]
     },
     "metadata": {
      "needs_background": "light"
     },
     "output_type": "display_data"
    },
    {
     "data": {
      "text/plain": [
       "<Figure size 432x288 with 0 Axes>"
      ]
     },
     "metadata": {},
     "output_type": "display_data"
    }
   ],
   "source": [
    "# Choose the station with the highest number of temperature observations.\n",
    "# Query the last 12 months of temperature observation data for this station and plot the results as a histogram\n",
    "# Calculate the date 1 year ago from the last data point in the database\n",
    "\n",
    "#finding the max date for station == 'USC00519281'\n",
    "results=session.query(Measurement.date).filter(Measurement.station == 'USC00519281').order_by(Measurement.date.desc()).first()\n",
    "results\n",
    "#('2017-08-18')\n",
    "\n",
    "# Perform a query to retrieve the data and precipitation scores\n",
    "results_tobs_hist = session.query(Measurement.tobs).filter(Measurement.station == 'USC00519281').\\\n",
    "filter(Measurement.date <= '2017-08-18').\\\n",
    "    filter (Measurement.date >= '2016-08-18').all()\n",
    "\n",
    "# PLOT THE HISTOGRAM\n",
    "\n",
    "df = pd.DataFrame(results_tobs_hist, columns=['tobs'])\n",
    "df.plot.hist(bins=12)\n",
    "plt.tight_layout()\n",
    "plt.show()\n",
    "plt.savefig(\"./histogram_12mnth_temp.png\")\n",
    "# need to adjust x and y axis, tickers, and bar thickness, and axis title"
   ]
  },
  {
   "cell_type": "markdown",
   "metadata": {},
   "source": [
    "![precipitation](Images/station-histogram.png)"
   ]
  },
  {
   "cell_type": "code",
   "execution_count": 16,
   "metadata": {},
   "outputs": [
    {
     "name": "stdout",
     "output_type": "stream",
     "text": [
      "[(62.0, 69.57142857142857, 74.0)]\n"
     ]
    }
   ],
   "source": [
    "# This function called `calc_temps` will accept start date and end date in the format '%Y-%m-%d' \n",
    "# and return the minimum, average, and maximum temperatures for that range of dates\n",
    "def calc_temps(start_date, end_date):\n",
    "    \"\"\"TMIN, TAVG, and TMAX for a list of dates.\n",
    "    \n",
    "    Args:\n",
    "        start_date (string): A date string in the format %Y-%m-%d\n",
    "        end_date (string): A date string in the format %Y-%m-%d\n",
    "        \n",
    "    Returns:\n",
    "        TMIN, TAVE, and TMAX\n",
    "    \"\"\"\n",
    "    \n",
    "    return session.query(func.min(Measurement.tobs), func.avg(Measurement.tobs), func.max(Measurement.tobs)).\\\n",
    "        filter(Measurement.date >= start_date).filter(Measurement.date <= end_date).all()\n",
    "\n",
    "# function usage example\n",
    "print(calc_temps('2012-02-28', '2012-03-05'))"
   ]
  },
  {
   "cell_type": "code",
   "execution_count": 17,
   "metadata": {},
   "outputs": [
    {
     "name": "stdout",
     "output_type": "stream",
     "text": [
      "[(64.0, 72.02777777777777, 78.0)]\n"
     ]
    }
   ],
   "source": [
    "# Use your previous function `calc_temps` to calculate the tmin, tavg, and tmax \n",
    "# for your trip using the previous year's data for those same dates.\n",
    "print(calc_temps('2017-02-28', '2017-03-05'))"
   ]
  },
  {
   "cell_type": "code",
   "execution_count": 18,
   "metadata": {},
   "outputs": [
    {
     "data": {
      "image/png": "[encoded data removed]",
      "text/plain": [
       "<Figure size 432x288 with 1 Axes>"
      ]
     },
     "metadata": {
      "needs_background": "light"
     },
     "output_type": "display_data"
    }
   ],
   "source": [
    "# Plot the results from your previous query as a bar chart. \n",
    "# Use \"Trip Avg Temp\" as your Title\n",
    "# Use the average temperature for the y value\n",
    "# Use the peak-to-peak (tmax-tmin) value as the y error bar (yerr)\n",
    "tmin=64.0\n",
    "tavg=72.03\n",
    "tmax=78.0\n",
    "yerr=(tmax-tmin)\n",
    "x=np.array([64.0,72.03,78.0])\n",
    "x_mean=np.mean(x)\n",
    "x_std=np.std(x)\n",
    "# Create lists for the plot\n",
    "temp = ['temp']\n",
    "x_pos = np.arange(len(temp))\n",
    "CTEs = [x_mean]\n",
    "error = [yerr]\n",
    "y=(72.03)\n",
    "\n",
    "# Build the plot\n",
    "fig, ax = plt.subplots()\n",
    "ax.bar(x_pos, CTEs, yerr=error,width=0.05, align='center', alpha=0.5, ecolor='black', color='red',capsize=10)\n",
    "ax.set_ylabel('Temp (F)')\n",
    "ax.set_xticks(x_pos)\n",
    "ax.set_xticklabels(temp)\n",
    "ax.set_title('Trip Avg Temp')\n",
    "ax.yaxis.grid(True)\n",
    "\n",
    "# Save the figure and show\n",
    "plt.tight_layout()\n",
    "plt.savefig('bar_plot_with_error_bars.png')\n",
    "plt.show()\n"
   ]
  },
  {
   "cell_type": "code",
   "execution_count": 50,
   "metadata": {},
   "outputs": [
    {
     "data": {
      "text/plain": [
       "[('USC00514830', '2014-07-20', 'KUALOA RANCH HEADQUARTERS 886.9, HI US', -157.8374, 21.5213, 11.53),\n",
       " ('USC00519281', '2014-07-20', 'WAIHEE 837.5, HI US', -157.84888999999998, 21.45167, 7.97),\n",
       " ('USC00513117', '2014-07-20', 'KANEOHE 838.1, HI US', -157.8015, 21.4234, 5.98),\n",
       " ('USC00519523', '2014-07-20', 'WAIMANALO EXPERIMENTAL FARM, HI US', -157.71139, 21.33556, 5.54),\n",
       " ('USC00516128', '2014-07-20', 'MANOA LYON ARBO 785.2, HI US', -157.8025, 21.3331, 4.3),\n",
       " ('USC00516128', '2014-07-27', 'MANOA LYON ARBO 785.2, HI US', -157.8025, 21.3331, 1.43),\n",
       " ('USC00516128', '2014-08-09', 'MANOA LYON ARBO 785.2, HI US', -157.8025, 21.3331, 1.2),\n",
       " ('USC00516128', '2014-08-08', 'MANOA LYON ARBO 785.2, HI US', -157.8025, 21.3331, 1.1),\n",
       " ('USC00519397', '2014-07-20', 'WAIKIKI 717.2, HI US', -157.8168, 21.2716, 1.09),\n",
       " ('USC00511918', '2014-07-20', 'HONOLULU OBSERVATORY 702.2, HI US', -157.9992, 21.3152, 1.0),\n",
       " ('USC00516128', '2014-08-02', 'MANOA LYON ARBO 785.2, HI US', -157.8025, 21.3331, 0.95),\n",
       " ('USC00516128', '2014-07-23', 'MANOA LYON ARBO 785.2, HI US', -157.8025, 21.3331, 0.93),\n",
       " ('USC00519281', '2014-08-09', 'WAIHEE 837.5, HI US', -157.84888999999998, 21.45167, 0.79),\n",
       " ('USC00519397', '2014-07-27', 'WAIKIKI 717.2, HI US', -157.8168, 21.2716, 0.79),\n",
       " ('USC00514830', '2014-08-09', 'KUALOA RANCH HEADQUARTERS 886.9, HI US', -157.8374, 21.5213, 0.72),\n",
       " ('USC00516128', '2014-07-21', 'MANOA LYON ARBO 785.2, HI US', -157.8025, 21.3331, 0.72),\n",
       " ('USC00514830', '2014-07-21', 'KUALOA RANCH HEADQUARTERS 886.9, HI US', -157.8374, 21.5213, 0.57),\n",
       " ('USC00514830', '2014-08-08', 'KUALOA RANCH HEADQUARTERS 886.9, HI US', -157.8374, 21.5213, 0.56),\n",
       " ('USC00519281', '2014-07-22', 'WAIHEE 837.5, HI US', -157.84888999999998, 21.45167, 0.49),\n",
       " ('USC00511918', '2014-08-09', 'HONOLULU OBSERVATORY 702.2, HI US', -157.9992, 21.3152, 0.42),\n",
       " ('USC00516128', '2014-08-10', 'MANOA LYON ARBO 785.2, HI US', -157.8025, 21.3331, 0.41),\n",
       " ('USC00519523', '2014-07-22', 'WAIMANALO EXPERIMENTAL FARM, HI US', -157.71139, 21.33556, 0.41),\n",
       " ('USC00513117', '2014-08-13', 'KANEOHE 838.1, HI US', -157.8015, 21.4234, 0.37),\n",
       " ('USC00519523', '2014-08-06', 'WAIMANALO EXPERIMENTAL FARM, HI US', -157.71139, 21.33556, 0.36),\n",
       " ('USC00513117', '2014-07-23', 'KANEOHE 838.1, HI US', -157.8015, 21.4234, 0.31),\n",
       " ('USC00513117', '2014-08-09', 'KANEOHE 838.1, HI US', -157.8015, 21.4234, 0.31),\n",
       " ('USC00519281', '2014-08-02', 'WAIHEE 837.5, HI US', -157.84888999999998, 21.45167, 0.31),\n",
       " ('USC00514830', '2014-08-07', 'KUALOA RANCH HEADQUARTERS 886.9, HI US', -157.8374, 21.5213, 0.29),\n",
       " ('USC00519281', '2014-08-08', 'WAIHEE 837.5, HI US', -157.84888999999998, 21.45167, 0.29),\n",
       " ('USC00519523', '2014-08-13', 'WAIMANALO EXPERIMENTAL FARM, HI US', -157.71139, 21.33556, 0.27),\n",
       " ('USC00514830', '2014-07-23', 'KUALOA RANCH HEADQUARTERS 886.9, HI US', -157.8374, 21.5213, 0.26),\n",
       " ('USC00516128', '2014-07-26', 'MANOA LYON ARBO 785.2, HI US', -157.8025, 21.3331, 0.26),\n",
       " ('USC00516128', '2014-08-06', 'MANOA LYON ARBO 785.2, HI US', -157.8025, 21.3331, 0.26),\n",
       " ('USC00519281', '2014-07-21', 'WAIHEE 837.5, HI US', -157.84888999999998, 21.45167, 0.17),\n",
       " ('USC00519281', '2014-08-13', 'WAIHEE 837.5, HI US', -157.84888999999998, 21.45167, 0.17),\n",
       " ('USC00519281', '2014-07-27', 'WAIHEE 837.5, HI US', -157.84888999999998, 21.45167, 0.16),\n",
       " ('USC00519397', '2014-08-07', 'WAIKIKI 717.2, HI US', -157.8168, 21.2716, 0.15),\n",
       " ('USC00516128', '2014-07-22', 'MANOA LYON ARBO 785.2, HI US', -157.8025, 21.3331, 0.14),\n",
       " ('USC00516128', '2014-07-24', 'MANOA LYON ARBO 785.2, HI US', -157.8025, 21.3331, 0.13),\n",
       " ('USC00519281', '2014-07-26', 'WAIHEE 837.5, HI US', -157.84888999999998, 21.45167, 0.13),\n",
       " ('USC00519523', '2014-08-09', 'WAIMANALO EXPERIMENTAL FARM, HI US', -157.71139, 21.33556, 0.12),\n",
       " ('USC00516128', '2014-08-13', 'MANOA LYON ARBO 785.2, HI US', -157.8025, 21.3331, 0.11),\n",
       " ('USC00516128', '2014-08-15', 'MANOA LYON ARBO 785.2, HI US', -157.8025, 21.3331, 0.11),\n",
       " ('USC00511918', '2014-07-27', 'HONOLULU OBSERVATORY 702.2, HI US', -157.9992, 21.3152, 0.1),\n",
       " ('USC00513117', '2014-08-02', 'KANEOHE 838.1, HI US', -157.8015, 21.4234, 0.1),\n",
       " ('USC00514830', '2014-08-13', 'KUALOA RANCH HEADQUARTERS 886.9, HI US', -157.8374, 21.5213, 0.1),\n",
       " ('USC00514830', '2014-08-02', 'KUALOA RANCH HEADQUARTERS 886.9, HI US', -157.8374, 21.5213, 0.09),\n",
       " ('USC00511918', '2014-08-08', 'HONOLULU OBSERVATORY 702.2, HI US', -157.9992, 21.3152, 0.08),\n",
       " ('USC00513117', '2014-08-08', 'KANEOHE 838.1, HI US', -157.8015, 21.4234, 0.08),\n",
       " ('USC00516128', '2014-08-14', 'MANOA LYON ARBO 785.2, HI US', -157.8025, 21.3331, 0.07),\n",
       " ('USC00519281', '2014-08-03', 'WAIHEE 837.5, HI US', -157.84888999999998, 21.45167, 0.07),\n",
       " ('USC00519523', '2014-07-21', 'WAIMANALO EXPERIMENTAL FARM, HI US', -157.71139, 21.33556, 0.07),\n",
       " ('USC00513117', '2014-08-10', 'KANEOHE 838.1, HI US', -157.8015, 21.4234, 0.06),\n",
       " ('USC00516128', '2014-08-01', 'MANOA LYON ARBO 785.2, HI US', -157.8025, 21.3331, 0.06),\n",
       " ('USC00519281', '2014-07-23', 'WAIHEE 837.5, HI US', -157.84888999999998, 21.45167, 0.06),\n",
       " ('USC00519397', '2014-08-14', 'WAIKIKI 717.2, HI US', -157.8168, 21.2716, 0.06),\n",
       " ('USC00513117', '2014-07-21', 'KANEOHE 838.1, HI US', -157.8015, 21.4234, 0.05),\n",
       " ('USC00514830', '2014-07-22', 'KUALOA RANCH HEADQUARTERS 886.9, HI US', -157.8374, 21.5213, 0.05),\n",
       " ('USC00516128', '2014-07-25', 'MANOA LYON ARBO 785.2, HI US', -157.8025, 21.3331, 0.05),\n",
       " ('USC00513117', '2014-07-27', 'KANEOHE 838.1, HI US', -157.8015, 21.4234, 0.04),\n",
       " ('USC00513117', '2014-08-06', 'KANEOHE 838.1, HI US', -157.8015, 21.4234, 0.04),\n",
       " ('USC00519281', '2014-08-14', 'WAIHEE 837.5, HI US', -157.84888999999998, 21.45167, 0.04),\n",
       " ('USC00511918', '2014-08-06', 'HONOLULU OBSERVATORY 702.2, HI US', -157.9992, 21.3152, 0.03),\n",
       " ('USC00513117', '2014-08-07', 'KANEOHE 838.1, HI US', -157.8015, 21.4234, 0.03),\n",
       " ('USC00516128', '2014-08-03', 'MANOA LYON ARBO 785.2, HI US', -157.8025, 21.3331, 0.03),\n",
       " ('USC00519281', '2014-08-10', 'WAIHEE 837.5, HI US', -157.84888999999998, 21.45167, 0.03),\n",
       " ('USC00511918', '2014-08-07', 'HONOLULU OBSERVATORY 702.2, HI US', -157.9992, 21.3152, 0.02),\n",
       " ('USC00513117', '2014-07-26', 'KANEOHE 838.1, HI US', -157.8015, 21.4234, 0.02),\n",
       " ('USC00514830', '2014-07-24', 'KUALOA RANCH HEADQUARTERS 886.9, HI US', -157.8374, 21.5213, 0.02),\n",
       " ('USC00514830', '2014-07-25', 'KUALOA RANCH HEADQUARTERS 886.9, HI US', -157.8374, 21.5213, 0.02),\n",
       " ('USC00516128', '2014-07-31', 'MANOA LYON ARBO 785.2, HI US', -157.8025, 21.3331, 0.02),\n",
       " ('USC00516128', '2014-08-07', 'MANOA LYON ARBO 785.2, HI US', -157.8025, 21.3331, 0.02),\n",
       " ('USC00517948', '2014-08-13', 'PEARL CITY, HI US', -157.9751, 21.3934, 0.02),\n",
       " ('USC00519281', '2014-07-24', 'WAIHEE 837.5, HI US', -157.84888999999998, 21.45167, 0.02),\n",
       " ('USC00519281', '2014-08-04', 'WAIHEE 837.5, HI US', -157.84888999999998, 21.45167, 0.02),\n",
       " ('USC00519281', '2014-08-07', 'WAIHEE 837.5, HI US', -157.84888999999998, 21.45167, 0.02),\n",
       " ('USC00519281', '2014-08-15', 'WAIHEE 837.5, HI US', -157.84888999999998, 21.45167, 0.02),\n",
       " ('USC00511918', '2014-07-21', 'HONOLULU OBSERVATORY 702.2, HI US', -157.9992, 21.3152, 0.01),\n",
       " ('USC00511918', '2014-07-23', 'HONOLULU OBSERVATORY 702.2, HI US', -157.9992, 21.3152, 0.01),\n",
       " ('USC00511918', '2014-08-10', 'HONOLULU OBSERVATORY 702.2, HI US', -157.9992, 21.3152, 0.01),\n",
       " ('USC00513117', '2014-07-22', 'KANEOHE 838.1, HI US', -157.8015, 21.4234, 0.01),\n",
       " ('USC00513117', '2014-08-15', 'KANEOHE 838.1, HI US', -157.8015, 21.4234, 0.01),\n",
       " ('USC00514830', '2014-08-06', 'KUALOA RANCH HEADQUARTERS 886.9, HI US', -157.8374, 21.5213, 0.01),\n",
       " ('USC00514830', '2014-08-12', 'KUALOA RANCH HEADQUARTERS 886.9, HI US', -157.8374, 21.5213, 0.01),\n",
       " ('USC00519397', '2014-07-23', 'WAIKIKI 717.2, HI US', -157.8168, 21.2716, 0.01),\n",
       " ('USC00519397', '2014-08-06', 'WAIKIKI 717.2, HI US', -157.8168, 21.2716, 0.01),\n",
       " ('USC00511918', '2014-07-22', 'HONOLULU OBSERVATORY 702.2, HI US', -157.9992, 21.3152, 0.0),\n",
       " ('USC00511918', '2014-07-24', 'HONOLULU OBSERVATORY 702.2, HI US', -157.9992, 21.3152, 0.0),\n",
       " ('USC00511918', '2014-07-25', 'HONOLULU OBSERVATORY 702.2, HI US', -157.9992, 21.3152, 0.0),\n",
       " ('USC00511918', '2014-07-26', 'HONOLULU OBSERVATORY 702.2, HI US', -157.9992, 21.3152, 0.0),\n",
       " ('USC00511918', '2014-07-28', 'HONOLULU OBSERVATORY 702.2, HI US', -157.9992, 21.3152, 0.0),\n",
       " ('USC00511918', '2014-07-29', 'HONOLULU OBSERVATORY 702.2, HI US', -157.9992, 21.3152, 0.0),\n",
       " ('USC00511918', '2014-07-30', 'HONOLULU OBSERVATORY 702.2, HI US', -157.9992, 21.3152, 0.0),\n",
       " ('USC00511918', '2014-07-31', 'HONOLULU OBSERVATORY 702.2, HI US', -157.9992, 21.3152, 0.0),\n",
       " ('USC00511918', '2014-08-01', 'HONOLULU OBSERVATORY 702.2, HI US', -157.9992, 21.3152, 0.0),\n",
       " ('USC00511918', '2014-08-02', 'HONOLULU OBSERVATORY 702.2, HI US', -157.9992, 21.3152, 0.0),\n",
       " ('USC00511918', '2014-08-03', 'HONOLULU OBSERVATORY 702.2, HI US', -157.9992, 21.3152, 0.0),\n",
       " ('USC00511918', '2014-08-04', 'HONOLULU OBSERVATORY 702.2, HI US', -157.9992, 21.3152, 0.0),\n",
       " ('USC00511918', '2014-08-05', 'HONOLULU OBSERVATORY 702.2, HI US', -157.9992, 21.3152, 0.0),\n",
       " ('USC00511918', '2014-08-11', 'HONOLULU OBSERVATORY 702.2, HI US', -157.9992, 21.3152, 0.0),\n",
       " ('USC00511918', '2014-08-12', 'HONOLULU OBSERVATORY 702.2, HI US', -157.9992, 21.3152, 0.0),\n",
       " ('USC00511918', '2014-08-13', 'HONOLULU OBSERVATORY 702.2, HI US', -157.9992, 21.3152, 0.0),\n",
       " ('USC00511918', '2014-08-14', 'HONOLULU OBSERVATORY 702.2, HI US', -157.9992, 21.3152, 0.0),\n",
       " ('USC00511918', '2014-08-15', 'HONOLULU OBSERVATORY 702.2, HI US', -157.9992, 21.3152, 0.0),\n",
       " ('USC00513117', '2014-07-24', 'KANEOHE 838.1, HI US', -157.8015, 21.4234, 0.0),\n",
       " ('USC00513117', '2014-07-25', 'KANEOHE 838.1, HI US', -157.8015, 21.4234, 0.0),\n",
       " ('USC00513117', '2014-07-28', 'KANEOHE 838.1, HI US', -157.8015, 21.4234, 0.0),\n",
       " ('USC00513117', '2014-07-29', 'KANEOHE 838.1, HI US', -157.8015, 21.4234, 0.0),\n",
       " ('USC00513117', '2014-07-30', 'KANEOHE 838.1, HI US', -157.8015, 21.4234, 0.0),\n",
       " ('USC00513117', '2014-07-31', 'KANEOHE 838.1, HI US', -157.8015, 21.4234, 0.0),\n",
       " ('USC00513117', '2014-08-01', 'KANEOHE 838.1, HI US', -157.8015, 21.4234, 0.0),\n",
       " ('USC00513117', '2014-08-03', 'KANEOHE 838.1, HI US', -157.8015, 21.4234, 0.0),\n",
       " ('USC00513117', '2014-08-04', 'KANEOHE 838.1, HI US', -157.8015, 21.4234, 0.0),\n",
       " ('USC00513117', '2014-08-05', 'KANEOHE 838.1, HI US', -157.8015, 21.4234, 0.0),\n",
       " ('USC00513117', '2014-08-11', 'KANEOHE 838.1, HI US', -157.8015, 21.4234, 0.0),\n",
       " ('USC00513117', '2014-08-12', 'KANEOHE 838.1, HI US', -157.8015, 21.4234, 0.0),\n",
       " ('USC00513117', '2014-08-14', 'KANEOHE 838.1, HI US', -157.8015, 21.4234, 0.0),\n",
       " ('USC00514830', '2014-07-28', 'KUALOA RANCH HEADQUARTERS 886.9, HI US', -157.8374, 21.5213, 0.0),\n",
       " ('USC00514830', '2014-07-29', 'KUALOA RANCH HEADQUARTERS 886.9, HI US', -157.8374, 21.5213, 0.0),\n",
       " ('USC00514830', '2014-07-30', 'KUALOA RANCH HEADQUARTERS 886.9, HI US', -157.8374, 21.5213, 0.0),\n",
       " ('USC00514830', '2014-07-31', 'KUALOA RANCH HEADQUARTERS 886.9, HI US', -157.8374, 21.5213, 0.0),\n",
       " ('USC00514830', '2014-08-01', 'KUALOA RANCH HEADQUARTERS 886.9, HI US', -157.8374, 21.5213, 0.0),\n",
       " ('USC00514830', '2014-08-05', 'KUALOA RANCH HEADQUARTERS 886.9, HI US', -157.8374, 21.5213, 0.0),\n",
       " ('USC00514830', '2014-08-14', 'KUALOA RANCH HEADQUARTERS 886.9, HI US', -157.8374, 21.5213, 0.0),\n",
       " ('USC00514830', '2014-08-15', 'KUALOA RANCH HEADQUARTERS 886.9, HI US', -157.8374, 21.5213, 0.0),\n",
       " ('USC00516128', '2014-07-28', 'MANOA LYON ARBO 785.2, HI US', -157.8025, 21.3331, 0.0),\n",
       " ('USC00516128', '2014-07-29', 'MANOA LYON ARBO 785.2, HI US', -157.8025, 21.3331, 0.0),\n",
       " ('USC00516128', '2014-07-30', 'MANOA LYON ARBO 785.2, HI US', -157.8025, 21.3331, 0.0),\n",
       " ('USC00517948', '2014-07-25', 'PEARL CITY, HI US', -157.9751, 21.3934, 0.0),\n",
       " ('USC00517948', '2014-07-29', 'PEARL CITY, HI US', -157.9751, 21.3934, 0.0),\n",
       " ('USC00517948', '2014-07-30', 'PEARL CITY, HI US', -157.9751, 21.3934, 0.0),\n",
       " ('USC00517948', '2014-08-12', 'PEARL CITY, HI US', -157.9751, 21.3934, 0.0),\n",
       " ('USC00517948', '2014-08-14', 'PEARL CITY, HI US', -157.9751, 21.3934, 0.0),\n",
       " ('USC00519281', '2014-07-25', 'WAIHEE 837.5, HI US', -157.84888999999998, 21.45167, 0.0),\n",
       " ('USC00519281', '2014-07-28', 'WAIHEE 837.5, HI US', -157.84888999999998, 21.45167, 0.0),\n",
       " ('USC00519281', '2014-07-29', 'WAIHEE 837.5, HI US', -157.84888999999998, 21.45167, 0.0),\n",
       " ('USC00519281', '2014-07-30', 'WAIHEE 837.5, HI US', -157.84888999999998, 21.45167, 0.0),\n",
       " ('USC00519281', '2014-07-31', 'WAIHEE 837.5, HI US', -157.84888999999998, 21.45167, 0.0),\n",
       " ('USC00519281', '2014-08-01', 'WAIHEE 837.5, HI US', -157.84888999999998, 21.45167, 0.0),\n",
       " ('USC00519281', '2014-08-05', 'WAIHEE 837.5, HI US', -157.84888999999998, 21.45167, 0.0),\n",
       " ('USC00519281', '2014-08-06', 'WAIHEE 837.5, HI US', -157.84888999999998, 21.45167, 0.0),\n",
       " ('USC00519281', '2014-08-11', 'WAIHEE 837.5, HI US', -157.84888999999998, 21.45167, 0.0),\n",
       " ('USC00519281', '2014-08-12', 'WAIHEE 837.5, HI US', -157.84888999999998, 21.45167, 0.0),\n",
       " ('USC00519397', '2014-07-21', 'WAIKIKI 717.2, HI US', -157.8168, 21.2716, 0.0),\n",
       " ('USC00519397', '2014-07-22', 'WAIKIKI 717.2, HI US', -157.8168, 21.2716, 0.0),\n",
       " ('USC00519397', '2014-07-24', 'WAIKIKI 717.2, HI US', -157.8168, 21.2716, 0.0),\n",
       " ('USC00519397', '2014-07-25', 'WAIKIKI 717.2, HI US', -157.8168, 21.2716, 0.0),\n",
       " ('USC00519397', '2014-07-26', 'WAIKIKI 717.2, HI US', -157.8168, 21.2716, 0.0),\n",
       " ('USC00519397', '2014-07-28', 'WAIKIKI 717.2, HI US', -157.8168, 21.2716, 0.0),\n",
       " ('USC00519397', '2014-07-29', 'WAIKIKI 717.2, HI US', -157.8168, 21.2716, 0.0),\n",
       " ('USC00519397', '2014-07-30', 'WAIKIKI 717.2, HI US', -157.8168, 21.2716, 0.0),\n",
       " ('USC00519397', '2014-07-31', 'WAIKIKI 717.2, HI US', -157.8168, 21.2716, 0.0),\n",
       " ('USC00519397', '2014-08-01', 'WAIKIKI 717.2, HI US', -157.8168, 21.2716, 0.0),\n",
       " ('USC00519397', '2014-08-02', 'WAIKIKI 717.2, HI US', -157.8168, 21.2716, 0.0),\n",
       " ('USC00519397', '2014-08-03', 'WAIKIKI 717.2, HI US', -157.8168, 21.2716, 0.0),\n",
       " ('USC00519397', '2014-08-04', 'WAIKIKI 717.2, HI US', -157.8168, 21.2716, 0.0),\n",
       " ('USC00519397', '2014-08-05', 'WAIKIKI 717.2, HI US', -157.8168, 21.2716, 0.0),\n",
       " ('USC00519397', '2014-08-10', 'WAIKIKI 717.2, HI US', -157.8168, 21.2716, 0.0),\n",
       " ('USC00519397', '2014-08-11', 'WAIKIKI 717.2, HI US', -157.8168, 21.2716, 0.0),\n",
       " ('USC00519397', '2014-08-12', 'WAIKIKI 717.2, HI US', -157.8168, 21.2716, 0.0),\n",
       " ('USC00519397', '2014-08-13', 'WAIKIKI 717.2, HI US', -157.8168, 21.2716, 0.0),\n",
       " ('USC00519397', '2014-08-15', 'WAIKIKI 717.2, HI US', -157.8168, 21.2716, 0.0),\n",
       " ('USC00519523', '2014-07-23', 'WAIMANALO EXPERIMENTAL FARM, HI US', -157.71139, 21.33556, 0.0),\n",
       " ('USC00519523', '2014-07-24', 'WAIMANALO EXPERIMENTAL FARM, HI US', -157.71139, 21.33556, 0.0),\n",
       " ('USC00519523', '2014-07-28', 'WAIMANALO EXPERIMENTAL FARM, HI US', -157.71139, 21.33556, 0.0),\n",
       " ('USC00519523', '2014-08-01', 'WAIMANALO EXPERIMENTAL FARM, HI US', -157.71139, 21.33556, 0.0),\n",
       " ('USC00519523', '2014-08-02', 'WAIMANALO EXPERIMENTAL FARM, HI US', -157.71139, 21.33556, 0.0),\n",
       " ('USC00519523', '2014-08-03', 'WAIMANALO EXPERIMENTAL FARM, HI US', -157.71139, 21.33556, 0.0),\n",
       " ('USC00519523', '2014-08-04', 'WAIMANALO EXPERIMENTAL FARM, HI US', -157.71139, 21.33556, 0.0),\n",
       " ('USC00519523', '2014-08-05', 'WAIMANALO EXPERIMENTAL FARM, HI US', -157.71139, 21.33556, 0.0),\n",
       " ('USC00519523', '2014-08-12', 'WAIMANALO EXPERIMENTAL FARM, HI US', -157.71139, 21.33556, 0.0),\n",
       " ('USC00519523', '2014-08-14', 'WAIMANALO EXPERIMENTAL FARM, HI US', -157.71139, 21.33556, 0.0),\n",
       " ('USC00519523', '2014-08-15', 'WAIMANALO EXPERIMENTAL FARM, HI US', -157.71139, 21.33556, 0.0),\n",
       " ('USC00514830', '2014-07-27', 'KUALOA RANCH HEADQUARTERS 886.9, HI US', -157.8374, 21.5213, None),\n",
       " ('USC00514830', '2014-08-04', 'KUALOA RANCH HEADQUARTERS 886.9, HI US', -157.8374, 21.5213, None),\n",
       " ('USC00514830', '2014-08-11', 'KUALOA RANCH HEADQUARTERS 886.9, HI US', -157.8374, 21.5213, None),\n",
       " ('USC00516128', '2014-08-05', 'MANOA LYON ARBO 785.2, HI US', -157.8025, 21.3331, None),\n",
       " ('USC00516128', '2014-08-12', 'MANOA LYON ARBO 785.2, HI US', -157.8025, 21.3331, None),\n",
       " ('USC00517948', '2014-07-21', 'PEARL CITY, HI US', -157.9751, 21.3934, None),\n",
       " ('USC00517948', '2014-07-22', 'PEARL CITY, HI US', -157.9751, 21.3934, None),\n",
       " ('USC00517948', '2014-07-23', 'PEARL CITY, HI US', -157.9751, 21.3934, None),\n",
       " ('USC00517948', '2014-07-24', 'PEARL CITY, HI US', -157.9751, 21.3934, None),\n",
       " ('USC00517948', '2014-07-28', 'PEARL CITY, HI US', -157.9751, 21.3934, None),\n",
       " ('USC00517948', '2014-07-31', 'PEARL CITY, HI US', -157.9751, 21.3934, None),\n",
       " ('USC00517948', '2014-08-11', 'PEARL CITY, HI US', -157.9751, 21.3934, None),\n",
       " ('USC00519397', '2014-08-08', 'WAIKIKI 717.2, HI US', -157.8168, 21.2716, None),\n",
       " ('USC00519397', '2014-08-09', 'WAIKIKI 717.2, HI US', -157.8168, 21.2716, None),\n",
       " ('USC00519523', '2014-07-27', 'WAIMANALO EXPERIMENTAL FARM, HI US', -157.71139, 21.33556, None),\n",
       " ('USC00519523', '2014-07-31', 'WAIMANALO EXPERIMENTAL FARM, HI US', -157.71139, 21.33556, None),\n",
       " ('USC00519523', '2014-08-08', 'WAIMANALO EXPERIMENTAL FARM, HI US', -157.71139, 21.33556, None),\n",
       " ('USC00519523', '2014-08-11', 'WAIMANALO EXPERIMENTAL FARM, HI US', -157.71139, 21.33556, None)]"
      ]
     },
     "execution_count": 50,
     "metadata": {},
     "output_type": "execute_result"
    }
   ],
   "source": [
    "# Calculate the total amount of rainfall per weather station for your trip dates using the previous year's matching dates.\n",
    "# Sort this in descending order by precipitation amount and list the station, name, latitude, longitude, and elevation\n",
    "# inspector = inspect(engine)\n",
    "# columns = inspector.get_columns('station')\n",
    "# for c in columns:\n",
    "#     print(c['name'], c['type'])\n",
    "\n",
    "# print('_'*12)\n",
    "# columns = inspector.get_columns('measurement')\n",
    "# for c in columns:\n",
    "#     print(c['name'], c['type'])\n",
    "    \n",
    "# join_result = engine.execute('SELECT * FROM measurement INNER JOIN station ON measurement.station = station.station;').fetchall()\n",
    "\n",
    "# engine.execute('SELECT DISTINCT station,date, sum(prcp) FROM measurement GROUP BY station,date ORDER BY sum(prcp) DESC').\\\n",
    "# fetchall()\n",
    "\n",
    "# result=session.query(Measurement,Station).filter(Measurement.station == Station.station).filter(Measurement.date == '2014-07-20').all()\n",
    "# # for row in result:\n",
    "# #         print(row)\n",
    "# join_result[0]\n",
    "\n",
    "# for m, s in session.query(Measurement,Station).filter(Measurement.station == Station.station).filter(Measurement.date >= '2014-07-20').filter(Measurement.date <= '2014-08-15').all():\n",
    "#     print (\"station: {} Name: {} precipitation: {} Elevation: {} Longitude:{} Latitude:{}  date:{} temperature:{}\".format(m.station,s.name,m.prcp, s.elevation,s.longitude,s.latitude,m.date,m.tobs))\n",
    "\n",
    "# Calculate the total amount of rainfall per weather station for your trip dates using the previous year's matching dates.\n",
    "join_result2 = engine.execute('SELECT Measurement.station,date,Station.name,Station.Longitude,Station.Latitude, sum(prcp) FROM Measurement INNER JOIN Station ON Measurement.station = Station.station and Measurement.date<=\"2014-08-15\" and Measurement.date >= \"2014-07-20\" GROUP BY Measurement.station,date,Station.name,Station.Longitude,Station.Latitude ORDER BY sum(prcp) DESC;').fetchall()\n",
    "join_result2"
   ]
  },
  {
   "cell_type": "markdown",
   "metadata": {},
   "source": [
    "## Optional Challenge Assignment"
   ]
  },
  {
   "cell_type": "code",
   "execution_count": null,
   "metadata": {},
   "outputs": [],
   "source": [
    "# Create a query that will calculate the daily normals \n",
    "# (i.e. the averages for tmin, tmax, and tavg for all historic data matching a specific month and day)\n",
    "\n",
    "def daily_normals(date):\n",
    "    \"\"\"Daily Normals.\n",
    "    \n",
    "    Args:\n",
    "        date (str): A date string in the format '%m-%d'\n",
    "        \n",
    "    Returns:\n",
    "        A list of tuples containing the daily normals, tmin, tavg, and tmax\n",
    "    \n",
    "    \"\"\"\n",
    "    \n",
    "    sel = [func.min(Measurement.tobs), func.avg(Measurement.tobs), func.max(Measurement.tobs)]\n",
    "    return session.query(*sel).filter(func.strftime(\"%m-%d\", Measurement.date) == date).all()\n",
    "    \n",
    "daily_normals(\"01-01\")\n"
   ]
  },
  {
   "cell_type": "code",
   "execution_count": null,
   "metadata": {},
   "outputs": [],
   "source": [
    "# calculate the daily normals for your trip\n",
    "# push each tuple of calculations into a list called `normals`\n",
    "\n",
    "# Set the start and end date of the trip\n",
    "\n",
    "# Use the start and end date to create a range of dates\n",
    "\n",
    "# Stip off the year and save a list of %m-%d strings\n",
    "\n",
    "# Loop through the list of %m-%d strings and calculate the normals for each date\n"
   ]
  },
  {
   "cell_type": "code",
   "execution_count": null,
   "metadata": {},
   "outputs": [],
   "source": [
    "# Load the previous query results into a Pandas DataFrame and add the `trip_dates` range as the `date` index\n"
   ]
  },
  {
   "cell_type": "code",
   "execution_count": null,
   "metadata": {},
   "outputs": [],
   "source": [
    "# Plot the daily normals as an area plot with `stacked=False`\n"
   ]
  }
 ],
 "metadata": {
  "kernel_info": {
   "name": "python3"
  },
  "kernelspec": {
   "display_name": "Python 3",
   "language": "python",
   "name": "python3"
  },
  "language_info": {
   "codemirror_mode": {
    "name": "ipython",
    "version": 3
   },
   "file_extension": ".py",
   "mimetype": "text/x-python",
   "name": "python",
   "nbconvert_exporter": "python",
   "pygments_lexer": "ipython3",
   "version": "3.6.9"
  },
  "nteract": {
   "version": "0.12.3"
  },
  "varInspector": {
   "cols": {
    "lenName": 16,
    "lenType": 16,
    "lenVar": 40
   },
   "kernels_config": {
    "python": {
     "delete_cmd_postfix": "",
     "delete_cmd_prefix": "del ",
     "library": "var_list.py",
     "varRefreshCmd": "print(var_dic_list())"
    },
    "r": {
     "delete_cmd_postfix": ") ",
     "delete_cmd_prefix": "rm(",
     "library": "var_list.r",
     "varRefreshCmd": "cat(var_dic_list()) "
    }
   },
   "types_to_exclude": [
    "module",
    "function",
    "builtin_function_or_method",
    "instance",
    "_Feature"
   ],
   "window_display": false
  }
 },
 "nbformat": 4,
 "nbformat_minor": 2
}
